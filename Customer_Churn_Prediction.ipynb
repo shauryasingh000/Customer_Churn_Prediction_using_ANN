{
 "cells": [
  {
   "cell_type": "code",
   "execution_count": 1,
   "id": "553d2cea",
   "metadata": {
    "_cell_guid": "b1076dfc-b9ad-4769-8c92-a6c4dae69d19",
    "_uuid": "8f2839f25d086af736a60e9eeb907d3b93b6e0e5",
    "execution": {
     "iopub.execute_input": "2024-08-23T19:34:07.952726Z",
     "iopub.status.busy": "2024-08-23T19:34:07.951835Z",
     "iopub.status.idle": "2024-08-23T19:34:08.649082Z",
     "shell.execute_reply": "2024-08-23T19:34:08.648163Z"
    },
    "papermill": {
     "duration": 0.709127,
     "end_time": "2024-08-23T19:34:08.651331",
     "exception": false,
     "start_time": "2024-08-23T19:34:07.942204",
     "status": "completed"
    },
    "tags": []
   },
   "outputs": [
    {
     "name": "stdout",
     "output_type": "stream",
     "text": [
      "/kaggle/input/credit-card-customer-churn-prediction/Churn_Modelling.csv\n"
     ]
    }
   ],
   "source": [
    "# This Python 3 environment comes with many helpful analytics libraries installed\n",
    "# It is defined by the kaggle/python Docker image: https://github.com/kaggle/docker-python\n",
    "# For example, here's several helpful packages to load\n",
    "\n",
    "import numpy as np # linear algebra\n",
    "import pandas as pd # data processing, CSV file I/O (e.g. pd.read_csv)\n",
    "\n",
    "# Input data files are available in the read-only \"../input/\" directory\n",
    "# For example, running this (by clicking run or pressing Shift+Enter) will list all files under the input directory\n",
    "\n",
    "import os\n",
    "for dirname, _, filenames in os.walk('/kaggle/input'):\n",
    "    for filename in filenames:\n",
    "        print(os.path.join(dirname, filename))\n",
    "\n",
    "# You can write up to 20GB to the current directory (/kaggle/working/) that gets preserved as output when you create a version using \"Save & Run All\" \n",
    "# You can also write temporary files to /kaggle/temp/, but they won't be saved outside of the current session"
   ]
  },
  {
   "cell_type": "code",
   "execution_count": 2,
   "id": "58e7a500",
   "metadata": {
    "execution": {
     "iopub.execute_input": "2024-08-23T19:34:08.668168Z",
     "iopub.status.busy": "2024-08-23T19:34:08.667707Z",
     "iopub.status.idle": "2024-08-23T19:34:08.732332Z",
     "shell.execute_reply": "2024-08-23T19:34:08.731418Z"
    },
    "papermill": {
     "duration": 0.075124,
     "end_time": "2024-08-23T19:34:08.734419",
     "exception": false,
     "start_time": "2024-08-23T19:34:08.659295",
     "status": "completed"
    },
    "tags": []
   },
   "outputs": [
    {
     "data": {
      "text/html": [
       "<div>\n",
       "<style scoped>\n",
       "    .dataframe tbody tr th:only-of-type {\n",
       "        vertical-align: middle;\n",
       "    }\n",
       "\n",
       "    .dataframe tbody tr th {\n",
       "        vertical-align: top;\n",
       "    }\n",
       "\n",
       "    .dataframe thead th {\n",
       "        text-align: right;\n",
       "    }\n",
       "</style>\n",
       "<table border=\"1\" class=\"dataframe\">\n",
       "  <thead>\n",
       "    <tr style=\"text-align: right;\">\n",
       "      <th></th>\n",
       "      <th>RowNumber</th>\n",
       "      <th>CustomerId</th>\n",
       "      <th>Surname</th>\n",
       "      <th>CreditScore</th>\n",
       "      <th>Geography</th>\n",
       "      <th>Gender</th>\n",
       "      <th>Age</th>\n",
       "      <th>Tenure</th>\n",
       "      <th>Balance</th>\n",
       "      <th>NumOfProducts</th>\n",
       "      <th>HasCrCard</th>\n",
       "      <th>IsActiveMember</th>\n",
       "      <th>EstimatedSalary</th>\n",
       "      <th>Exited</th>\n",
       "    </tr>\n",
       "  </thead>\n",
       "  <tbody>\n",
       "    <tr>\n",
       "      <th>0</th>\n",
       "      <td>1</td>\n",
       "      <td>15634602</td>\n",
       "      <td>Hargrave</td>\n",
       "      <td>619</td>\n",
       "      <td>France</td>\n",
       "      <td>Female</td>\n",
       "      <td>42</td>\n",
       "      <td>2</td>\n",
       "      <td>0.00</td>\n",
       "      <td>1</td>\n",
       "      <td>1</td>\n",
       "      <td>1</td>\n",
       "      <td>101348.88</td>\n",
       "      <td>1</td>\n",
       "    </tr>\n",
       "    <tr>\n",
       "      <th>1</th>\n",
       "      <td>2</td>\n",
       "      <td>15647311</td>\n",
       "      <td>Hill</td>\n",
       "      <td>608</td>\n",
       "      <td>Spain</td>\n",
       "      <td>Female</td>\n",
       "      <td>41</td>\n",
       "      <td>1</td>\n",
       "      <td>83807.86</td>\n",
       "      <td>1</td>\n",
       "      <td>0</td>\n",
       "      <td>1</td>\n",
       "      <td>112542.58</td>\n",
       "      <td>0</td>\n",
       "    </tr>\n",
       "    <tr>\n",
       "      <th>2</th>\n",
       "      <td>3</td>\n",
       "      <td>15619304</td>\n",
       "      <td>Onio</td>\n",
       "      <td>502</td>\n",
       "      <td>France</td>\n",
       "      <td>Female</td>\n",
       "      <td>42</td>\n",
       "      <td>8</td>\n",
       "      <td>159660.80</td>\n",
       "      <td>3</td>\n",
       "      <td>1</td>\n",
       "      <td>0</td>\n",
       "      <td>113931.57</td>\n",
       "      <td>1</td>\n",
       "    </tr>\n",
       "    <tr>\n",
       "      <th>3</th>\n",
       "      <td>4</td>\n",
       "      <td>15701354</td>\n",
       "      <td>Boni</td>\n",
       "      <td>699</td>\n",
       "      <td>France</td>\n",
       "      <td>Female</td>\n",
       "      <td>39</td>\n",
       "      <td>1</td>\n",
       "      <td>0.00</td>\n",
       "      <td>2</td>\n",
       "      <td>0</td>\n",
       "      <td>0</td>\n",
       "      <td>93826.63</td>\n",
       "      <td>0</td>\n",
       "    </tr>\n",
       "    <tr>\n",
       "      <th>4</th>\n",
       "      <td>5</td>\n",
       "      <td>15737888</td>\n",
       "      <td>Mitchell</td>\n",
       "      <td>850</td>\n",
       "      <td>Spain</td>\n",
       "      <td>Female</td>\n",
       "      <td>43</td>\n",
       "      <td>2</td>\n",
       "      <td>125510.82</td>\n",
       "      <td>1</td>\n",
       "      <td>1</td>\n",
       "      <td>1</td>\n",
       "      <td>79084.10</td>\n",
       "      <td>0</td>\n",
       "    </tr>\n",
       "  </tbody>\n",
       "</table>\n",
       "</div>"
      ],
      "text/plain": [
       "   RowNumber  CustomerId   Surname  CreditScore Geography  Gender  Age  \\\n",
       "0          1    15634602  Hargrave          619    France  Female   42   \n",
       "1          2    15647311      Hill          608     Spain  Female   41   \n",
       "2          3    15619304      Onio          502    France  Female   42   \n",
       "3          4    15701354      Boni          699    France  Female   39   \n",
       "4          5    15737888  Mitchell          850     Spain  Female   43   \n",
       "\n",
       "   Tenure    Balance  NumOfProducts  HasCrCard  IsActiveMember  \\\n",
       "0       2       0.00              1          1               1   \n",
       "1       1   83807.86              1          0               1   \n",
       "2       8  159660.80              3          1               0   \n",
       "3       1       0.00              2          0               0   \n",
       "4       2  125510.82              1          1               1   \n",
       "\n",
       "   EstimatedSalary  Exited  \n",
       "0        101348.88       1  \n",
       "1        112542.58       0  \n",
       "2        113931.57       1  \n",
       "3         93826.63       0  \n",
       "4         79084.10       0  "
      ]
     },
     "execution_count": 2,
     "metadata": {},
     "output_type": "execute_result"
    }
   ],
   "source": [
    "df = pd.read_csv('/kaggle/input/credit-card-customer-churn-prediction/Churn_Modelling.csv')\n",
    "df.head()"
   ]
  },
  {
   "cell_type": "code",
   "execution_count": 3,
   "id": "29da4090",
   "metadata": {
    "execution": {
     "iopub.execute_input": "2024-08-23T19:34:08.751546Z",
     "iopub.status.busy": "2024-08-23T19:34:08.751262Z",
     "iopub.status.idle": "2024-08-23T19:34:08.756998Z",
     "shell.execute_reply": "2024-08-23T19:34:08.756064Z"
    },
    "papermill": {
     "duration": 0.01612,
     "end_time": "2024-08-23T19:34:08.759005",
     "exception": false,
     "start_time": "2024-08-23T19:34:08.742885",
     "status": "completed"
    },
    "tags": []
   },
   "outputs": [
    {
     "data": {
      "text/plain": [
       "(10000, 14)"
      ]
     },
     "execution_count": 3,
     "metadata": {},
     "output_type": "execute_result"
    }
   ],
   "source": [
    "df.shape"
   ]
  },
  {
   "cell_type": "code",
   "execution_count": 4,
   "id": "baeb26a1",
   "metadata": {
    "execution": {
     "iopub.execute_input": "2024-08-23T19:34:08.775975Z",
     "iopub.status.busy": "2024-08-23T19:34:08.775350Z",
     "iopub.status.idle": "2024-08-23T19:34:08.798175Z",
     "shell.execute_reply": "2024-08-23T19:34:08.797244Z"
    },
    "papermill": {
     "duration": 0.033356,
     "end_time": "2024-08-23T19:34:08.800127",
     "exception": false,
     "start_time": "2024-08-23T19:34:08.766771",
     "status": "completed"
    },
    "tags": []
   },
   "outputs": [
    {
     "name": "stdout",
     "output_type": "stream",
     "text": [
      "<class 'pandas.core.frame.DataFrame'>\n",
      "RangeIndex: 10000 entries, 0 to 9999\n",
      "Data columns (total 14 columns):\n",
      " #   Column           Non-Null Count  Dtype  \n",
      "---  ------           --------------  -----  \n",
      " 0   RowNumber        10000 non-null  int64  \n",
      " 1   CustomerId       10000 non-null  int64  \n",
      " 2   Surname          10000 non-null  object \n",
      " 3   CreditScore      10000 non-null  int64  \n",
      " 4   Geography        10000 non-null  object \n",
      " 5   Gender           10000 non-null  object \n",
      " 6   Age              10000 non-null  int64  \n",
      " 7   Tenure           10000 non-null  int64  \n",
      " 8   Balance          10000 non-null  float64\n",
      " 9   NumOfProducts    10000 non-null  int64  \n",
      " 10  HasCrCard        10000 non-null  int64  \n",
      " 11  IsActiveMember   10000 non-null  int64  \n",
      " 12  EstimatedSalary  10000 non-null  float64\n",
      " 13  Exited           10000 non-null  int64  \n",
      "dtypes: float64(2), int64(9), object(3)\n",
      "memory usage: 1.1+ MB\n"
     ]
    }
   ],
   "source": [
    "df.info()"
   ]
  },
  {
   "cell_type": "code",
   "execution_count": 5,
   "id": "1e4de6be",
   "metadata": {
    "execution": {
     "iopub.execute_input": "2024-08-23T19:34:08.817986Z",
     "iopub.status.busy": "2024-08-23T19:34:08.817429Z",
     "iopub.status.idle": "2024-08-23T19:34:08.830905Z",
     "shell.execute_reply": "2024-08-23T19:34:08.830007Z"
    },
    "papermill": {
     "duration": 0.024403,
     "end_time": "2024-08-23T19:34:08.832827",
     "exception": false,
     "start_time": "2024-08-23T19:34:08.808424",
     "status": "completed"
    },
    "tags": []
   },
   "outputs": [
    {
     "data": {
      "text/plain": [
       "0"
      ]
     },
     "execution_count": 5,
     "metadata": {},
     "output_type": "execute_result"
    }
   ],
   "source": [
    "df.duplicated().sum()"
   ]
  },
  {
   "cell_type": "code",
   "execution_count": 6,
   "id": "4ac2f7b0",
   "metadata": {
    "execution": {
     "iopub.execute_input": "2024-08-23T19:34:08.850137Z",
     "iopub.status.busy": "2024-08-23T19:34:08.849839Z",
     "iopub.status.idle": "2024-08-23T19:34:08.859374Z",
     "shell.execute_reply": "2024-08-23T19:34:08.858486Z"
    },
    "papermill": {
     "duration": 0.020597,
     "end_time": "2024-08-23T19:34:08.861468",
     "exception": false,
     "start_time": "2024-08-23T19:34:08.840871",
     "status": "completed"
    },
    "tags": []
   },
   "outputs": [
    {
     "data": {
      "text/plain": [
       "Exited\n",
       "0    7963\n",
       "1    2037\n",
       "Name: count, dtype: int64"
      ]
     },
     "execution_count": 6,
     "metadata": {},
     "output_type": "execute_result"
    }
   ],
   "source": [
    "df['Exited'].value_counts()"
   ]
  },
  {
   "cell_type": "code",
   "execution_count": 7,
   "id": "67c0a69d",
   "metadata": {
    "execution": {
     "iopub.execute_input": "2024-08-23T19:34:08.879589Z",
     "iopub.status.busy": "2024-08-23T19:34:08.879305Z",
     "iopub.status.idle": "2024-08-23T19:34:08.887876Z",
     "shell.execute_reply": "2024-08-23T19:34:08.887061Z"
    },
    "papermill": {
     "duration": 0.019636,
     "end_time": "2024-08-23T19:34:08.889904",
     "exception": false,
     "start_time": "2024-08-23T19:34:08.870268",
     "status": "completed"
    },
    "tags": []
   },
   "outputs": [
    {
     "data": {
      "text/plain": [
       "Geography\n",
       "France     5014\n",
       "Germany    2509\n",
       "Spain      2477\n",
       "Name: count, dtype: int64"
      ]
     },
     "execution_count": 7,
     "metadata": {},
     "output_type": "execute_result"
    }
   ],
   "source": [
    "df['Geography'].value_counts()"
   ]
  },
  {
   "cell_type": "code",
   "execution_count": 8,
   "id": "05b0ccc2",
   "metadata": {
    "execution": {
     "iopub.execute_input": "2024-08-23T19:34:08.907334Z",
     "iopub.status.busy": "2024-08-23T19:34:08.907046Z",
     "iopub.status.idle": "2024-08-23T19:34:08.915308Z",
     "shell.execute_reply": "2024-08-23T19:34:08.914450Z"
    },
    "papermill": {
     "duration": 0.019334,
     "end_time": "2024-08-23T19:34:08.917445",
     "exception": false,
     "start_time": "2024-08-23T19:34:08.898111",
     "status": "completed"
    },
    "tags": []
   },
   "outputs": [
    {
     "data": {
      "text/plain": [
       "Gender\n",
       "Male      5457\n",
       "Female    4543\n",
       "Name: count, dtype: int64"
      ]
     },
     "execution_count": 8,
     "metadata": {},
     "output_type": "execute_result"
    }
   ],
   "source": [
    "df['Gender'].value_counts()"
   ]
  },
  {
   "cell_type": "code",
   "execution_count": 9,
   "id": "82828884",
   "metadata": {
    "execution": {
     "iopub.execute_input": "2024-08-23T19:34:08.935316Z",
     "iopub.status.busy": "2024-08-23T19:34:08.935043Z",
     "iopub.status.idle": "2024-08-23T19:34:08.955609Z",
     "shell.execute_reply": "2024-08-23T19:34:08.954724Z"
    },
    "papermill": {
     "duration": 0.03202,
     "end_time": "2024-08-23T19:34:08.958082",
     "exception": false,
     "start_time": "2024-08-23T19:34:08.926062",
     "status": "completed"
    },
    "tags": []
   },
   "outputs": [
    {
     "data": {
      "text/html": [
       "<div>\n",
       "<style scoped>\n",
       "    .dataframe tbody tr th:only-of-type {\n",
       "        vertical-align: middle;\n",
       "    }\n",
       "\n",
       "    .dataframe tbody tr th {\n",
       "        vertical-align: top;\n",
       "    }\n",
       "\n",
       "    .dataframe thead th {\n",
       "        text-align: right;\n",
       "    }\n",
       "</style>\n",
       "<table border=\"1\" class=\"dataframe\">\n",
       "  <thead>\n",
       "    <tr style=\"text-align: right;\">\n",
       "      <th></th>\n",
       "      <th>CreditScore</th>\n",
       "      <th>Geography</th>\n",
       "      <th>Gender</th>\n",
       "      <th>Age</th>\n",
       "      <th>Tenure</th>\n",
       "      <th>Balance</th>\n",
       "      <th>NumOfProducts</th>\n",
       "      <th>HasCrCard</th>\n",
       "      <th>IsActiveMember</th>\n",
       "      <th>EstimatedSalary</th>\n",
       "      <th>Exited</th>\n",
       "    </tr>\n",
       "  </thead>\n",
       "  <tbody>\n",
       "    <tr>\n",
       "      <th>0</th>\n",
       "      <td>619</td>\n",
       "      <td>France</td>\n",
       "      <td>Female</td>\n",
       "      <td>42</td>\n",
       "      <td>2</td>\n",
       "      <td>0.00</td>\n",
       "      <td>1</td>\n",
       "      <td>1</td>\n",
       "      <td>1</td>\n",
       "      <td>101348.88</td>\n",
       "      <td>1</td>\n",
       "    </tr>\n",
       "    <tr>\n",
       "      <th>1</th>\n",
       "      <td>608</td>\n",
       "      <td>Spain</td>\n",
       "      <td>Female</td>\n",
       "      <td>41</td>\n",
       "      <td>1</td>\n",
       "      <td>83807.86</td>\n",
       "      <td>1</td>\n",
       "      <td>0</td>\n",
       "      <td>1</td>\n",
       "      <td>112542.58</td>\n",
       "      <td>0</td>\n",
       "    </tr>\n",
       "    <tr>\n",
       "      <th>2</th>\n",
       "      <td>502</td>\n",
       "      <td>France</td>\n",
       "      <td>Female</td>\n",
       "      <td>42</td>\n",
       "      <td>8</td>\n",
       "      <td>159660.80</td>\n",
       "      <td>3</td>\n",
       "      <td>1</td>\n",
       "      <td>0</td>\n",
       "      <td>113931.57</td>\n",
       "      <td>1</td>\n",
       "    </tr>\n",
       "    <tr>\n",
       "      <th>3</th>\n",
       "      <td>699</td>\n",
       "      <td>France</td>\n",
       "      <td>Female</td>\n",
       "      <td>39</td>\n",
       "      <td>1</td>\n",
       "      <td>0.00</td>\n",
       "      <td>2</td>\n",
       "      <td>0</td>\n",
       "      <td>0</td>\n",
       "      <td>93826.63</td>\n",
       "      <td>0</td>\n",
       "    </tr>\n",
       "    <tr>\n",
       "      <th>4</th>\n",
       "      <td>850</td>\n",
       "      <td>Spain</td>\n",
       "      <td>Female</td>\n",
       "      <td>43</td>\n",
       "      <td>2</td>\n",
       "      <td>125510.82</td>\n",
       "      <td>1</td>\n",
       "      <td>1</td>\n",
       "      <td>1</td>\n",
       "      <td>79084.10</td>\n",
       "      <td>0</td>\n",
       "    </tr>\n",
       "    <tr>\n",
       "      <th>...</th>\n",
       "      <td>...</td>\n",
       "      <td>...</td>\n",
       "      <td>...</td>\n",
       "      <td>...</td>\n",
       "      <td>...</td>\n",
       "      <td>...</td>\n",
       "      <td>...</td>\n",
       "      <td>...</td>\n",
       "      <td>...</td>\n",
       "      <td>...</td>\n",
       "      <td>...</td>\n",
       "    </tr>\n",
       "    <tr>\n",
       "      <th>9995</th>\n",
       "      <td>771</td>\n",
       "      <td>France</td>\n",
       "      <td>Male</td>\n",
       "      <td>39</td>\n",
       "      <td>5</td>\n",
       "      <td>0.00</td>\n",
       "      <td>2</td>\n",
       "      <td>1</td>\n",
       "      <td>0</td>\n",
       "      <td>96270.64</td>\n",
       "      <td>0</td>\n",
       "    </tr>\n",
       "    <tr>\n",
       "      <th>9996</th>\n",
       "      <td>516</td>\n",
       "      <td>France</td>\n",
       "      <td>Male</td>\n",
       "      <td>35</td>\n",
       "      <td>10</td>\n",
       "      <td>57369.61</td>\n",
       "      <td>1</td>\n",
       "      <td>1</td>\n",
       "      <td>1</td>\n",
       "      <td>101699.77</td>\n",
       "      <td>0</td>\n",
       "    </tr>\n",
       "    <tr>\n",
       "      <th>9997</th>\n",
       "      <td>709</td>\n",
       "      <td>France</td>\n",
       "      <td>Female</td>\n",
       "      <td>36</td>\n",
       "      <td>7</td>\n",
       "      <td>0.00</td>\n",
       "      <td>1</td>\n",
       "      <td>0</td>\n",
       "      <td>1</td>\n",
       "      <td>42085.58</td>\n",
       "      <td>1</td>\n",
       "    </tr>\n",
       "    <tr>\n",
       "      <th>9998</th>\n",
       "      <td>772</td>\n",
       "      <td>Germany</td>\n",
       "      <td>Male</td>\n",
       "      <td>42</td>\n",
       "      <td>3</td>\n",
       "      <td>75075.31</td>\n",
       "      <td>2</td>\n",
       "      <td>1</td>\n",
       "      <td>0</td>\n",
       "      <td>92888.52</td>\n",
       "      <td>1</td>\n",
       "    </tr>\n",
       "    <tr>\n",
       "      <th>9999</th>\n",
       "      <td>792</td>\n",
       "      <td>France</td>\n",
       "      <td>Female</td>\n",
       "      <td>28</td>\n",
       "      <td>4</td>\n",
       "      <td>130142.79</td>\n",
       "      <td>1</td>\n",
       "      <td>1</td>\n",
       "      <td>0</td>\n",
       "      <td>38190.78</td>\n",
       "      <td>0</td>\n",
       "    </tr>\n",
       "  </tbody>\n",
       "</table>\n",
       "<p>10000 rows × 11 columns</p>\n",
       "</div>"
      ],
      "text/plain": [
       "      CreditScore Geography  Gender  Age  Tenure    Balance  NumOfProducts  \\\n",
       "0             619    France  Female   42       2       0.00              1   \n",
       "1             608     Spain  Female   41       1   83807.86              1   \n",
       "2             502    France  Female   42       8  159660.80              3   \n",
       "3             699    France  Female   39       1       0.00              2   \n",
       "4             850     Spain  Female   43       2  125510.82              1   \n",
       "...           ...       ...     ...  ...     ...        ...            ...   \n",
       "9995          771    France    Male   39       5       0.00              2   \n",
       "9996          516    France    Male   35      10   57369.61              1   \n",
       "9997          709    France  Female   36       7       0.00              1   \n",
       "9998          772   Germany    Male   42       3   75075.31              2   \n",
       "9999          792    France  Female   28       4  130142.79              1   \n",
       "\n",
       "      HasCrCard  IsActiveMember  EstimatedSalary  Exited  \n",
       "0             1               1        101348.88       1  \n",
       "1             0               1        112542.58       0  \n",
       "2             1               0        113931.57       1  \n",
       "3             0               0         93826.63       0  \n",
       "4             1               1         79084.10       0  \n",
       "...         ...             ...              ...     ...  \n",
       "9995          1               0         96270.64       0  \n",
       "9996          1               1        101699.77       0  \n",
       "9997          0               1         42085.58       1  \n",
       "9998          1               0         92888.52       1  \n",
       "9999          1               0         38190.78       0  \n",
       "\n",
       "[10000 rows x 11 columns]"
      ]
     },
     "execution_count": 9,
     "metadata": {},
     "output_type": "execute_result"
    }
   ],
   "source": [
    "df.drop(columns=['RowNumber','CustomerId','Surname'],inplace =True)\n",
    "df"
   ]
  },
  {
   "cell_type": "code",
   "execution_count": 10,
   "id": "54704dfc",
   "metadata": {
    "execution": {
     "iopub.execute_input": "2024-08-23T19:34:08.977190Z",
     "iopub.status.busy": "2024-08-23T19:34:08.976831Z",
     "iopub.status.idle": "2024-08-23T19:34:08.997980Z",
     "shell.execute_reply": "2024-08-23T19:34:08.997057Z"
    },
    "papermill": {
     "duration": 0.032925,
     "end_time": "2024-08-23T19:34:08.999935",
     "exception": false,
     "start_time": "2024-08-23T19:34:08.967010",
     "status": "completed"
    },
    "tags": []
   },
   "outputs": [
    {
     "data": {
      "text/html": [
       "<div>\n",
       "<style scoped>\n",
       "    .dataframe tbody tr th:only-of-type {\n",
       "        vertical-align: middle;\n",
       "    }\n",
       "\n",
       "    .dataframe tbody tr th {\n",
       "        vertical-align: top;\n",
       "    }\n",
       "\n",
       "    .dataframe thead th {\n",
       "        text-align: right;\n",
       "    }\n",
       "</style>\n",
       "<table border=\"1\" class=\"dataframe\">\n",
       "  <thead>\n",
       "    <tr style=\"text-align: right;\">\n",
       "      <th></th>\n",
       "      <th>CreditScore</th>\n",
       "      <th>Age</th>\n",
       "      <th>Tenure</th>\n",
       "      <th>Balance</th>\n",
       "      <th>NumOfProducts</th>\n",
       "      <th>HasCrCard</th>\n",
       "      <th>IsActiveMember</th>\n",
       "      <th>EstimatedSalary</th>\n",
       "      <th>Exited</th>\n",
       "      <th>Geography_Germany</th>\n",
       "      <th>Geography_Spain</th>\n",
       "      <th>Gender_Male</th>\n",
       "    </tr>\n",
       "  </thead>\n",
       "  <tbody>\n",
       "    <tr>\n",
       "      <th>0</th>\n",
       "      <td>619</td>\n",
       "      <td>42</td>\n",
       "      <td>2</td>\n",
       "      <td>0</td>\n",
       "      <td>1</td>\n",
       "      <td>1</td>\n",
       "      <td>1</td>\n",
       "      <td>101348</td>\n",
       "      <td>1</td>\n",
       "      <td>0</td>\n",
       "      <td>0</td>\n",
       "      <td>0</td>\n",
       "    </tr>\n",
       "    <tr>\n",
       "      <th>1</th>\n",
       "      <td>608</td>\n",
       "      <td>41</td>\n",
       "      <td>1</td>\n",
       "      <td>83807</td>\n",
       "      <td>1</td>\n",
       "      <td>0</td>\n",
       "      <td>1</td>\n",
       "      <td>112542</td>\n",
       "      <td>0</td>\n",
       "      <td>0</td>\n",
       "      <td>1</td>\n",
       "      <td>0</td>\n",
       "    </tr>\n",
       "    <tr>\n",
       "      <th>2</th>\n",
       "      <td>502</td>\n",
       "      <td>42</td>\n",
       "      <td>8</td>\n",
       "      <td>159660</td>\n",
       "      <td>3</td>\n",
       "      <td>1</td>\n",
       "      <td>0</td>\n",
       "      <td>113931</td>\n",
       "      <td>1</td>\n",
       "      <td>0</td>\n",
       "      <td>0</td>\n",
       "      <td>0</td>\n",
       "    </tr>\n",
       "    <tr>\n",
       "      <th>3</th>\n",
       "      <td>699</td>\n",
       "      <td>39</td>\n",
       "      <td>1</td>\n",
       "      <td>0</td>\n",
       "      <td>2</td>\n",
       "      <td>0</td>\n",
       "      <td>0</td>\n",
       "      <td>93826</td>\n",
       "      <td>0</td>\n",
       "      <td>0</td>\n",
       "      <td>0</td>\n",
       "      <td>0</td>\n",
       "    </tr>\n",
       "    <tr>\n",
       "      <th>4</th>\n",
       "      <td>850</td>\n",
       "      <td>43</td>\n",
       "      <td>2</td>\n",
       "      <td>125510</td>\n",
       "      <td>1</td>\n",
       "      <td>1</td>\n",
       "      <td>1</td>\n",
       "      <td>79084</td>\n",
       "      <td>0</td>\n",
       "      <td>0</td>\n",
       "      <td>1</td>\n",
       "      <td>0</td>\n",
       "    </tr>\n",
       "    <tr>\n",
       "      <th>...</th>\n",
       "      <td>...</td>\n",
       "      <td>...</td>\n",
       "      <td>...</td>\n",
       "      <td>...</td>\n",
       "      <td>...</td>\n",
       "      <td>...</td>\n",
       "      <td>...</td>\n",
       "      <td>...</td>\n",
       "      <td>...</td>\n",
       "      <td>...</td>\n",
       "      <td>...</td>\n",
       "      <td>...</td>\n",
       "    </tr>\n",
       "    <tr>\n",
       "      <th>9995</th>\n",
       "      <td>771</td>\n",
       "      <td>39</td>\n",
       "      <td>5</td>\n",
       "      <td>0</td>\n",
       "      <td>2</td>\n",
       "      <td>1</td>\n",
       "      <td>0</td>\n",
       "      <td>96270</td>\n",
       "      <td>0</td>\n",
       "      <td>0</td>\n",
       "      <td>0</td>\n",
       "      <td>1</td>\n",
       "    </tr>\n",
       "    <tr>\n",
       "      <th>9996</th>\n",
       "      <td>516</td>\n",
       "      <td>35</td>\n",
       "      <td>10</td>\n",
       "      <td>57369</td>\n",
       "      <td>1</td>\n",
       "      <td>1</td>\n",
       "      <td>1</td>\n",
       "      <td>101699</td>\n",
       "      <td>0</td>\n",
       "      <td>0</td>\n",
       "      <td>0</td>\n",
       "      <td>1</td>\n",
       "    </tr>\n",
       "    <tr>\n",
       "      <th>9997</th>\n",
       "      <td>709</td>\n",
       "      <td>36</td>\n",
       "      <td>7</td>\n",
       "      <td>0</td>\n",
       "      <td>1</td>\n",
       "      <td>0</td>\n",
       "      <td>1</td>\n",
       "      <td>42085</td>\n",
       "      <td>1</td>\n",
       "      <td>0</td>\n",
       "      <td>0</td>\n",
       "      <td>0</td>\n",
       "    </tr>\n",
       "    <tr>\n",
       "      <th>9998</th>\n",
       "      <td>772</td>\n",
       "      <td>42</td>\n",
       "      <td>3</td>\n",
       "      <td>75075</td>\n",
       "      <td>2</td>\n",
       "      <td>1</td>\n",
       "      <td>0</td>\n",
       "      <td>92888</td>\n",
       "      <td>1</td>\n",
       "      <td>1</td>\n",
       "      <td>0</td>\n",
       "      <td>1</td>\n",
       "    </tr>\n",
       "    <tr>\n",
       "      <th>9999</th>\n",
       "      <td>792</td>\n",
       "      <td>28</td>\n",
       "      <td>4</td>\n",
       "      <td>130142</td>\n",
       "      <td>1</td>\n",
       "      <td>1</td>\n",
       "      <td>0</td>\n",
       "      <td>38190</td>\n",
       "      <td>0</td>\n",
       "      <td>0</td>\n",
       "      <td>0</td>\n",
       "      <td>0</td>\n",
       "    </tr>\n",
       "  </tbody>\n",
       "</table>\n",
       "<p>10000 rows × 12 columns</p>\n",
       "</div>"
      ],
      "text/plain": [
       "      CreditScore  Age  Tenure  Balance  NumOfProducts  HasCrCard  \\\n",
       "0             619   42       2        0              1          1   \n",
       "1             608   41       1    83807              1          0   \n",
       "2             502   42       8   159660              3          1   \n",
       "3             699   39       1        0              2          0   \n",
       "4             850   43       2   125510              1          1   \n",
       "...           ...  ...     ...      ...            ...        ...   \n",
       "9995          771   39       5        0              2          1   \n",
       "9996          516   35      10    57369              1          1   \n",
       "9997          709   36       7        0              1          0   \n",
       "9998          772   42       3    75075              2          1   \n",
       "9999          792   28       4   130142              1          1   \n",
       "\n",
       "      IsActiveMember  EstimatedSalary  Exited  Geography_Germany  \\\n",
       "0                  1           101348       1                  0   \n",
       "1                  1           112542       0                  0   \n",
       "2                  0           113931       1                  0   \n",
       "3                  0            93826       0                  0   \n",
       "4                  1            79084       0                  0   \n",
       "...              ...              ...     ...                ...   \n",
       "9995               0            96270       0                  0   \n",
       "9996               1           101699       0                  0   \n",
       "9997               1            42085       1                  0   \n",
       "9998               0            92888       1                  1   \n",
       "9999               0            38190       0                  0   \n",
       "\n",
       "      Geography_Spain  Gender_Male  \n",
       "0                   0            0  \n",
       "1                   1            0  \n",
       "2                   0            0  \n",
       "3                   0            0  \n",
       "4                   1            0  \n",
       "...               ...          ...  \n",
       "9995                0            1  \n",
       "9996                0            1  \n",
       "9997                0            0  \n",
       "9998                0            1  \n",
       "9999                0            0  \n",
       "\n",
       "[10000 rows x 12 columns]"
      ]
     },
     "execution_count": 10,
     "metadata": {},
     "output_type": "execute_result"
    }
   ],
   "source": [
    "df = pd.get_dummies(df,columns=['Geography','Gender'],drop_first= True)\n",
    "df = df.astype(int)\n",
    "df"
   ]
  },
  {
   "cell_type": "code",
   "execution_count": 11,
   "id": "5364e7bb",
   "metadata": {
    "execution": {
     "iopub.execute_input": "2024-08-23T19:34:09.019751Z",
     "iopub.status.busy": "2024-08-23T19:34:09.019239Z",
     "iopub.status.idle": "2024-08-23T19:34:10.004561Z",
     "shell.execute_reply": "2024-08-23T19:34:10.003705Z"
    },
    "papermill": {
     "duration": 0.997658,
     "end_time": "2024-08-23T19:34:10.007000",
     "exception": false,
     "start_time": "2024-08-23T19:34:09.009342",
     "status": "completed"
    },
    "tags": []
   },
   "outputs": [],
   "source": [
    "X =df.drop(columns =['Exited'])\n",
    "y = df['Exited']\n",
    "\n",
    "from sklearn.model_selection import train_test_split\n",
    "\n",
    "X_train,X_test,y_train,y_test = train_test_split(X,y,test_size= 0.2,random_state = 1)"
   ]
  },
  {
   "cell_type": "code",
   "execution_count": 12,
   "id": "5c671be1",
   "metadata": {
    "execution": {
     "iopub.execute_input": "2024-08-23T19:34:10.027949Z",
     "iopub.status.busy": "2024-08-23T19:34:10.026932Z",
     "iopub.status.idle": "2024-08-23T19:34:10.033040Z",
     "shell.execute_reply": "2024-08-23T19:34:10.032192Z"
    },
    "papermill": {
     "duration": 0.018395,
     "end_time": "2024-08-23T19:34:10.035045",
     "exception": false,
     "start_time": "2024-08-23T19:34:10.016650",
     "status": "completed"
    },
    "tags": []
   },
   "outputs": [
    {
     "data": {
      "text/plain": [
       "(8000, 11)"
      ]
     },
     "execution_count": 12,
     "metadata": {},
     "output_type": "execute_result"
    }
   ],
   "source": [
    "X_train.shape"
   ]
  },
  {
   "cell_type": "code",
   "execution_count": 13,
   "id": "16ea234c",
   "metadata": {
    "execution": {
     "iopub.execute_input": "2024-08-23T19:34:10.055079Z",
     "iopub.status.busy": "2024-08-23T19:34:10.054723Z",
     "iopub.status.idle": "2024-08-23T19:34:10.067143Z",
     "shell.execute_reply": "2024-08-23T19:34:10.066372Z"
    },
    "papermill": {
     "duration": 0.024965,
     "end_time": "2024-08-23T19:34:10.069404",
     "exception": false,
     "start_time": "2024-08-23T19:34:10.044439",
     "status": "completed"
    },
    "tags": []
   },
   "outputs": [],
   "source": [
    "from sklearn.preprocessing import StandardScaler\n",
    "scaler = StandardScaler()\n",
    "\n",
    "X_train_scaled= scaler.fit_transform(X_train)\n",
    "X_test_scaled = scaler.transform(X_test)\n"
   ]
  },
  {
   "cell_type": "code",
   "execution_count": 14,
   "id": "c99aaccd",
   "metadata": {
    "execution": {
     "iopub.execute_input": "2024-08-23T19:34:10.089572Z",
     "iopub.status.busy": "2024-08-23T19:34:10.089246Z",
     "iopub.status.idle": "2024-08-23T19:34:21.845340Z",
     "shell.execute_reply": "2024-08-23T19:34:21.844511Z"
    },
    "papermill": {
     "duration": 11.768763,
     "end_time": "2024-08-23T19:34:21.847757",
     "exception": false,
     "start_time": "2024-08-23T19:34:10.078994",
     "status": "completed"
    },
    "tags": []
   },
   "outputs": [],
   "source": [
    "import tensorflow\n",
    "from tensorflow import keras\n",
    "from tensorflow.keras import Sequential\n",
    "from tensorflow.keras.layers import Dense"
   ]
  },
  {
   "cell_type": "code",
   "execution_count": 15,
   "id": "cfa1c8ff",
   "metadata": {
    "execution": {
     "iopub.execute_input": "2024-08-23T19:34:21.869088Z",
     "iopub.status.busy": "2024-08-23T19:34:21.868418Z",
     "iopub.status.idle": "2024-08-23T19:34:22.590013Z",
     "shell.execute_reply": "2024-08-23T19:34:22.589223Z"
    },
    "papermill": {
     "duration": 0.734805,
     "end_time": "2024-08-23T19:34:22.592246",
     "exception": false,
     "start_time": "2024-08-23T19:34:21.857441",
     "status": "completed"
    },
    "tags": []
   },
   "outputs": [
    {
     "name": "stderr",
     "output_type": "stream",
     "text": [
      "/opt/conda/lib/python3.10/site-packages/keras/src/layers/core/dense.py:87: UserWarning: Do not pass an `input_shape`/`input_dim` argument to a layer. When using Sequential models, prefer using an `Input(shape)` object as the first layer in the model instead.\n",
      "  super().__init__(activity_regularizer=activity_regularizer, **kwargs)\n"
     ]
    }
   ],
   "source": [
    "model  = Sequential()\n",
    "\n",
    "model.add(Dense(11,activation = 'relu',input_dim = 11))\n",
    "model.add(Dense(11,activation = 'relu'))\n",
    "model.add(Dense(7,activation='relu'))\n",
    "model.add(Dense(3,activation='relu'))\n",
    "model.add(Dense(1,activation = 'sigmoid'))"
   ]
  },
  {
   "cell_type": "code",
   "execution_count": 16,
   "id": "f23d79d2",
   "metadata": {
    "execution": {
     "iopub.execute_input": "2024-08-23T19:34:22.632091Z",
     "iopub.status.busy": "2024-08-23T19:34:22.631321Z",
     "iopub.status.idle": "2024-08-23T19:34:22.651165Z",
     "shell.execute_reply": "2024-08-23T19:34:22.650077Z"
    },
    "papermill": {
     "duration": 0.034409,
     "end_time": "2024-08-23T19:34:22.653086",
     "exception": false,
     "start_time": "2024-08-23T19:34:22.618677",
     "status": "completed"
    },
    "tags": []
   },
   "outputs": [
    {
     "data": {
      "text/html": [
       "<pre style=\"white-space:pre;overflow-x:auto;line-height:normal;font-family:Menlo,'DejaVu Sans Mono',consolas,'Courier New',monospace\"><span style=\"font-weight: bold\">Model: \"sequential\"</span>\n",
       "</pre>\n"
      ],
      "text/plain": [
       "\u001b[1mModel: \"sequential\"\u001b[0m\n"
      ]
     },
     "metadata": {},
     "output_type": "display_data"
    },
    {
     "data": {
      "text/html": [
       "<pre style=\"white-space:pre;overflow-x:auto;line-height:normal;font-family:Menlo,'DejaVu Sans Mono',consolas,'Courier New',monospace\">┏━━━━━━━━━━━━━━━━━━━━━━━━━━━━━━━━━┳━━━━━━━━━━━━━━━━━━━━━━━━┳━━━━━━━━━━━━━━━┓\n",
       "┃<span style=\"font-weight: bold\"> Layer (type)                    </span>┃<span style=\"font-weight: bold\"> Output Shape           </span>┃<span style=\"font-weight: bold\">       Param # </span>┃\n",
       "┡━━━━━━━━━━━━━━━━━━━━━━━━━━━━━━━━━╇━━━━━━━━━━━━━━━━━━━━━━━━╇━━━━━━━━━━━━━━━┩\n",
       "│ dense (<span style=\"color: #0087ff; text-decoration-color: #0087ff\">Dense</span>)                   │ (<span style=\"color: #00d7ff; text-decoration-color: #00d7ff\">None</span>, <span style=\"color: #00af00; text-decoration-color: #00af00\">11</span>)             │           <span style=\"color: #00af00; text-decoration-color: #00af00\">132</span> │\n",
       "├─────────────────────────────────┼────────────────────────┼───────────────┤\n",
       "│ dense_1 (<span style=\"color: #0087ff; text-decoration-color: #0087ff\">Dense</span>)                 │ (<span style=\"color: #00d7ff; text-decoration-color: #00d7ff\">None</span>, <span style=\"color: #00af00; text-decoration-color: #00af00\">11</span>)             │           <span style=\"color: #00af00; text-decoration-color: #00af00\">132</span> │\n",
       "├─────────────────────────────────┼────────────────────────┼───────────────┤\n",
       "│ dense_2 (<span style=\"color: #0087ff; text-decoration-color: #0087ff\">Dense</span>)                 │ (<span style=\"color: #00d7ff; text-decoration-color: #00d7ff\">None</span>, <span style=\"color: #00af00; text-decoration-color: #00af00\">7</span>)              │            <span style=\"color: #00af00; text-decoration-color: #00af00\">84</span> │\n",
       "├─────────────────────────────────┼────────────────────────┼───────────────┤\n",
       "│ dense_3 (<span style=\"color: #0087ff; text-decoration-color: #0087ff\">Dense</span>)                 │ (<span style=\"color: #00d7ff; text-decoration-color: #00d7ff\">None</span>, <span style=\"color: #00af00; text-decoration-color: #00af00\">3</span>)              │            <span style=\"color: #00af00; text-decoration-color: #00af00\">24</span> │\n",
       "├─────────────────────────────────┼────────────────────────┼───────────────┤\n",
       "│ dense_4 (<span style=\"color: #0087ff; text-decoration-color: #0087ff\">Dense</span>)                 │ (<span style=\"color: #00d7ff; text-decoration-color: #00d7ff\">None</span>, <span style=\"color: #00af00; text-decoration-color: #00af00\">1</span>)              │             <span style=\"color: #00af00; text-decoration-color: #00af00\">4</span> │\n",
       "└─────────────────────────────────┴────────────────────────┴───────────────┘\n",
       "</pre>\n"
      ],
      "text/plain": [
       "┏━━━━━━━━━━━━━━━━━━━━━━━━━━━━━━━━━┳━━━━━━━━━━━━━━━━━━━━━━━━┳━━━━━━━━━━━━━━━┓\n",
       "┃\u001b[1m \u001b[0m\u001b[1mLayer (type)                   \u001b[0m\u001b[1m \u001b[0m┃\u001b[1m \u001b[0m\u001b[1mOutput Shape          \u001b[0m\u001b[1m \u001b[0m┃\u001b[1m \u001b[0m\u001b[1m      Param #\u001b[0m\u001b[1m \u001b[0m┃\n",
       "┡━━━━━━━━━━━━━━━━━━━━━━━━━━━━━━━━━╇━━━━━━━━━━━━━━━━━━━━━━━━╇━━━━━━━━━━━━━━━┩\n",
       "│ dense (\u001b[38;5;33mDense\u001b[0m)                   │ (\u001b[38;5;45mNone\u001b[0m, \u001b[38;5;34m11\u001b[0m)             │           \u001b[38;5;34m132\u001b[0m │\n",
       "├─────────────────────────────────┼────────────────────────┼───────────────┤\n",
       "│ dense_1 (\u001b[38;5;33mDense\u001b[0m)                 │ (\u001b[38;5;45mNone\u001b[0m, \u001b[38;5;34m11\u001b[0m)             │           \u001b[38;5;34m132\u001b[0m │\n",
       "├─────────────────────────────────┼────────────────────────┼───────────────┤\n",
       "│ dense_2 (\u001b[38;5;33mDense\u001b[0m)                 │ (\u001b[38;5;45mNone\u001b[0m, \u001b[38;5;34m7\u001b[0m)              │            \u001b[38;5;34m84\u001b[0m │\n",
       "├─────────────────────────────────┼────────────────────────┼───────────────┤\n",
       "│ dense_3 (\u001b[38;5;33mDense\u001b[0m)                 │ (\u001b[38;5;45mNone\u001b[0m, \u001b[38;5;34m3\u001b[0m)              │            \u001b[38;5;34m24\u001b[0m │\n",
       "├─────────────────────────────────┼────────────────────────┼───────────────┤\n",
       "│ dense_4 (\u001b[38;5;33mDense\u001b[0m)                 │ (\u001b[38;5;45mNone\u001b[0m, \u001b[38;5;34m1\u001b[0m)              │             \u001b[38;5;34m4\u001b[0m │\n",
       "└─────────────────────────────────┴────────────────────────┴───────────────┘\n"
      ]
     },
     "metadata": {},
     "output_type": "display_data"
    },
    {
     "data": {
      "text/html": [
       "<pre style=\"white-space:pre;overflow-x:auto;line-height:normal;font-family:Menlo,'DejaVu Sans Mono',consolas,'Courier New',monospace\"><span style=\"font-weight: bold\"> Total params: </span><span style=\"color: #00af00; text-decoration-color: #00af00\">376</span> (1.47 KB)\n",
       "</pre>\n"
      ],
      "text/plain": [
       "\u001b[1m Total params: \u001b[0m\u001b[38;5;34m376\u001b[0m (1.47 KB)\n"
      ]
     },
     "metadata": {},
     "output_type": "display_data"
    },
    {
     "data": {
      "text/html": [
       "<pre style=\"white-space:pre;overflow-x:auto;line-height:normal;font-family:Menlo,'DejaVu Sans Mono',consolas,'Courier New',monospace\"><span style=\"font-weight: bold\"> Trainable params: </span><span style=\"color: #00af00; text-decoration-color: #00af00\">376</span> (1.47 KB)\n",
       "</pre>\n"
      ],
      "text/plain": [
       "\u001b[1m Trainable params: \u001b[0m\u001b[38;5;34m376\u001b[0m (1.47 KB)\n"
      ]
     },
     "metadata": {},
     "output_type": "display_data"
    },
    {
     "data": {
      "text/html": [
       "<pre style=\"white-space:pre;overflow-x:auto;line-height:normal;font-family:Menlo,'DejaVu Sans Mono',consolas,'Courier New',monospace\"><span style=\"font-weight: bold\"> Non-trainable params: </span><span style=\"color: #00af00; text-decoration-color: #00af00\">0</span> (0.00 B)\n",
       "</pre>\n"
      ],
      "text/plain": [
       "\u001b[1m Non-trainable params: \u001b[0m\u001b[38;5;34m0\u001b[0m (0.00 B)\n"
      ]
     },
     "metadata": {},
     "output_type": "display_data"
    }
   ],
   "source": [
    "model.summary()"
   ]
  },
  {
   "cell_type": "code",
   "execution_count": 17,
   "id": "ca7c0733",
   "metadata": {
    "execution": {
     "iopub.execute_input": "2024-08-23T19:34:22.674827Z",
     "iopub.status.busy": "2024-08-23T19:34:22.674492Z",
     "iopub.status.idle": "2024-08-23T19:34:22.687560Z",
     "shell.execute_reply": "2024-08-23T19:34:22.686788Z"
    },
    "papermill": {
     "duration": 0.026147,
     "end_time": "2024-08-23T19:34:22.689518",
     "exception": false,
     "start_time": "2024-08-23T19:34:22.663371",
     "status": "completed"
    },
    "tags": []
   },
   "outputs": [],
   "source": [
    "model.compile(loss= 'binary_crossentropy', optimizer= 'Adam',metrics=['accuracy'])"
   ]
  },
  {
   "cell_type": "code",
   "execution_count": 18,
   "id": "24b476cb",
   "metadata": {
    "execution": {
     "iopub.execute_input": "2024-08-23T19:34:22.711355Z",
     "iopub.status.busy": "2024-08-23T19:34:22.710971Z",
     "iopub.status.idle": "2024-08-23T19:35:06.671862Z",
     "shell.execute_reply": "2024-08-23T19:35:06.670884Z"
    },
    "papermill": {
     "duration": 43.974371,
     "end_time": "2024-08-23T19:35:06.673993",
     "exception": false,
     "start_time": "2024-08-23T19:34:22.699622",
     "status": "completed"
    },
    "tags": []
   },
   "outputs": [
    {
     "name": "stdout",
     "output_type": "stream",
     "text": [
      "Epoch 1/100\n"
     ]
    },
    {
     "name": "stderr",
     "output_type": "stream",
     "text": [
      "WARNING: All log messages before absl::InitializeLog() is called are written to STDERR\n",
      "I0000 00:00:1724441664.140532      65 service.cc:145] XLA service 0x77fe5c006df0 initialized for platform CUDA (this does not guarantee that XLA will be used). Devices:\n",
      "I0000 00:00:1724441664.140599      65 service.cc:153]   StreamExecutor device (0): Tesla P100-PCIE-16GB, Compute Capability 6.0\n"
     ]
    },
    {
     "name": "stdout",
     "output_type": "stream",
     "text": [
      "\u001b[1m 96/200\u001b[0m \u001b[32m━━━━━━━━━\u001b[0m\u001b[37m━━━━━━━━━━━\u001b[0m \u001b[1m0s\u001b[0m 2ms/step - accuracy: 0.6711 - loss: 0.6467"
     ]
    },
    {
     "name": "stderr",
     "output_type": "stream",
     "text": [
      "I0000 00:00:1724441665.437368      65 device_compiler.h:188] Compiled cluster using XLA!  This line is logged at most once for the lifetime of the process.\n"
     ]
    },
    {
     "name": "stdout",
     "output_type": "stream",
     "text": [
      "\u001b[1m200/200\u001b[0m \u001b[32m━━━━━━━━━━━━━━━━━━━━\u001b[0m\u001b[37m\u001b[0m \u001b[1m3s\u001b[0m 4ms/step - accuracy: 0.7234 - loss: 0.6034 - val_accuracy: 0.7975 - val_loss: 0.4716\n",
      "Epoch 2/100\n",
      "\u001b[1m200/200\u001b[0m \u001b[32m━━━━━━━━━━━━━━━━━━━━\u001b[0m\u001b[37m\u001b[0m \u001b[1m0s\u001b[0m 2ms/step - accuracy: 0.8117 - loss: 0.4420 - val_accuracy: 0.7994 - val_loss: 0.4444\n",
      "Epoch 3/100\n",
      "\u001b[1m200/200\u001b[0m \u001b[32m━━━━━━━━━━━━━━━━━━━━\u001b[0m\u001b[37m\u001b[0m \u001b[1m0s\u001b[0m 2ms/step - accuracy: 0.8026 - loss: 0.4452 - val_accuracy: 0.8087 - val_loss: 0.4314\n",
      "Epoch 4/100\n",
      "\u001b[1m200/200\u001b[0m \u001b[32m━━━━━━━━━━━━━━━━━━━━\u001b[0m\u001b[37m\u001b[0m \u001b[1m0s\u001b[0m 2ms/step - accuracy: 0.8037 - loss: 0.4373 - val_accuracy: 0.8181 - val_loss: 0.4180\n",
      "Epoch 5/100\n",
      "\u001b[1m200/200\u001b[0m \u001b[32m━━━━━━━━━━━━━━━━━━━━\u001b[0m\u001b[37m\u001b[0m \u001b[1m0s\u001b[0m 2ms/step - accuracy: 0.8216 - loss: 0.4157 - val_accuracy: 0.8238 - val_loss: 0.3953\n",
      "Epoch 6/100\n",
      "\u001b[1m200/200\u001b[0m \u001b[32m━━━━━━━━━━━━━━━━━━━━\u001b[0m\u001b[37m\u001b[0m \u001b[1m0s\u001b[0m 2ms/step - accuracy: 0.8349 - loss: 0.3751 - val_accuracy: 0.8331 - val_loss: 0.3837\n",
      "Epoch 7/100\n",
      "\u001b[1m200/200\u001b[0m \u001b[32m━━━━━━━━━━━━━━━━━━━━\u001b[0m\u001b[37m\u001b[0m \u001b[1m0s\u001b[0m 2ms/step - accuracy: 0.8349 - loss: 0.3845 - val_accuracy: 0.8419 - val_loss: 0.3718\n",
      "Epoch 8/100\n",
      "\u001b[1m200/200\u001b[0m \u001b[32m━━━━━━━━━━━━━━━━━━━━\u001b[0m\u001b[37m\u001b[0m \u001b[1m1s\u001b[0m 2ms/step - accuracy: 0.8537 - loss: 0.3473 - val_accuracy: 0.8350 - val_loss: 0.3748\n",
      "Epoch 9/100\n",
      "\u001b[1m200/200\u001b[0m \u001b[32m━━━━━━━━━━━━━━━━━━━━\u001b[0m\u001b[37m\u001b[0m \u001b[1m0s\u001b[0m 2ms/step - accuracy: 0.8453 - loss: 0.3712 - val_accuracy: 0.8438 - val_loss: 0.3653\n",
      "Epoch 10/100\n",
      "\u001b[1m200/200\u001b[0m \u001b[32m━━━━━━━━━━━━━━━━━━━━\u001b[0m\u001b[37m\u001b[0m \u001b[1m1s\u001b[0m 2ms/step - accuracy: 0.8455 - loss: 0.3591 - val_accuracy: 0.8462 - val_loss: 0.3626\n",
      "Epoch 11/100\n",
      "\u001b[1m200/200\u001b[0m \u001b[32m━━━━━━━━━━━━━━━━━━━━\u001b[0m\u001b[37m\u001b[0m \u001b[1m0s\u001b[0m 2ms/step - accuracy: 0.8479 - loss: 0.3647 - val_accuracy: 0.8438 - val_loss: 0.3610\n",
      "Epoch 12/100\n",
      "\u001b[1m200/200\u001b[0m \u001b[32m━━━━━━━━━━━━━━━━━━━━\u001b[0m\u001b[37m\u001b[0m \u001b[1m0s\u001b[0m 2ms/step - accuracy: 0.8481 - loss: 0.3547 - val_accuracy: 0.8450 - val_loss: 0.3580\n",
      "Epoch 13/100\n",
      "\u001b[1m200/200\u001b[0m \u001b[32m━━━━━━━━━━━━━━━━━━━━\u001b[0m\u001b[37m\u001b[0m \u001b[1m0s\u001b[0m 2ms/step - accuracy: 0.8464 - loss: 0.3583 - val_accuracy: 0.8469 - val_loss: 0.3553\n",
      "Epoch 14/100\n",
      "\u001b[1m200/200\u001b[0m \u001b[32m━━━━━━━━━━━━━━━━━━━━\u001b[0m\u001b[37m\u001b[0m \u001b[1m0s\u001b[0m 2ms/step - accuracy: 0.8558 - loss: 0.3458 - val_accuracy: 0.8506 - val_loss: 0.3560\n",
      "Epoch 15/100\n",
      "\u001b[1m200/200\u001b[0m \u001b[32m━━━━━━━━━━━━━━━━━━━━\u001b[0m\u001b[37m\u001b[0m \u001b[1m0s\u001b[0m 2ms/step - accuracy: 0.8617 - loss: 0.3333 - val_accuracy: 0.8494 - val_loss: 0.3562\n",
      "Epoch 16/100\n",
      "\u001b[1m200/200\u001b[0m \u001b[32m━━━━━━━━━━━━━━━━━━━━\u001b[0m\u001b[37m\u001b[0m \u001b[1m0s\u001b[0m 2ms/step - accuracy: 0.8497 - loss: 0.3562 - val_accuracy: 0.8537 - val_loss: 0.3518\n",
      "Epoch 17/100\n",
      "\u001b[1m200/200\u001b[0m \u001b[32m━━━━━━━━━━━━━━━━━━━━\u001b[0m\u001b[37m\u001b[0m \u001b[1m0s\u001b[0m 2ms/step - accuracy: 0.8561 - loss: 0.3430 - val_accuracy: 0.8531 - val_loss: 0.3512\n",
      "Epoch 18/100\n",
      "\u001b[1m200/200\u001b[0m \u001b[32m━━━━━━━━━━━━━━━━━━━━\u001b[0m\u001b[37m\u001b[0m \u001b[1m0s\u001b[0m 2ms/step - accuracy: 0.8590 - loss: 0.3376 - val_accuracy: 0.8550 - val_loss: 0.3491\n",
      "Epoch 19/100\n",
      "\u001b[1m200/200\u001b[0m \u001b[32m━━━━━━━━━━━━━━━━━━━━\u001b[0m\u001b[37m\u001b[0m \u001b[1m0s\u001b[0m 2ms/step - accuracy: 0.8531 - loss: 0.3429 - val_accuracy: 0.8569 - val_loss: 0.3470\n",
      "Epoch 20/100\n",
      "\u001b[1m200/200\u001b[0m \u001b[32m━━━━━━━━━━━━━━━━━━━━\u001b[0m\u001b[37m\u001b[0m \u001b[1m0s\u001b[0m 2ms/step - accuracy: 0.8649 - loss: 0.3320 - val_accuracy: 0.8556 - val_loss: 0.3484\n",
      "Epoch 21/100\n",
      "\u001b[1m200/200\u001b[0m \u001b[32m━━━━━━━━━━━━━━━━━━━━\u001b[0m\u001b[37m\u001b[0m \u001b[1m0s\u001b[0m 2ms/step - accuracy: 0.8568 - loss: 0.3410 - val_accuracy: 0.8575 - val_loss: 0.3473\n",
      "Epoch 22/100\n",
      "\u001b[1m200/200\u001b[0m \u001b[32m━━━━━━━━━━━━━━━━━━━━\u001b[0m\u001b[37m\u001b[0m \u001b[1m0s\u001b[0m 2ms/step - accuracy: 0.8599 - loss: 0.3308 - val_accuracy: 0.8569 - val_loss: 0.3476\n",
      "Epoch 23/100\n",
      "\u001b[1m200/200\u001b[0m \u001b[32m━━━━━━━━━━━━━━━━━━━━\u001b[0m\u001b[37m\u001b[0m \u001b[1m0s\u001b[0m 2ms/step - accuracy: 0.8599 - loss: 0.3372 - val_accuracy: 0.8625 - val_loss: 0.3442\n",
      "Epoch 24/100\n",
      "\u001b[1m200/200\u001b[0m \u001b[32m━━━━━━━━━━━━━━━━━━━━\u001b[0m\u001b[37m\u001b[0m \u001b[1m0s\u001b[0m 2ms/step - accuracy: 0.8640 - loss: 0.3235 - val_accuracy: 0.8562 - val_loss: 0.3472\n",
      "Epoch 25/100\n",
      "\u001b[1m200/200\u001b[0m \u001b[32m━━━━━━━━━━━━━━━━━━━━\u001b[0m\u001b[37m\u001b[0m \u001b[1m0s\u001b[0m 2ms/step - accuracy: 0.8737 - loss: 0.3218 - val_accuracy: 0.8544 - val_loss: 0.3469\n",
      "Epoch 26/100\n",
      "\u001b[1m200/200\u001b[0m \u001b[32m━━━━━━━━━━━━━━━━━━━━\u001b[0m\u001b[37m\u001b[0m \u001b[1m0s\u001b[0m 2ms/step - accuracy: 0.8584 - loss: 0.3413 - val_accuracy: 0.8594 - val_loss: 0.3468\n",
      "Epoch 27/100\n",
      "\u001b[1m200/200\u001b[0m \u001b[32m━━━━━━━━━━━━━━━━━━━━\u001b[0m\u001b[37m\u001b[0m \u001b[1m0s\u001b[0m 2ms/step - accuracy: 0.8611 - loss: 0.3378 - val_accuracy: 0.8600 - val_loss: 0.3453\n",
      "Epoch 28/100\n",
      "\u001b[1m200/200\u001b[0m \u001b[32m━━━━━━━━━━━━━━━━━━━━\u001b[0m\u001b[37m\u001b[0m \u001b[1m0s\u001b[0m 2ms/step - accuracy: 0.8653 - loss: 0.3272 - val_accuracy: 0.8619 - val_loss: 0.3453\n",
      "Epoch 29/100\n",
      "\u001b[1m200/200\u001b[0m \u001b[32m━━━━━━━━━━━━━━━━━━━━\u001b[0m\u001b[37m\u001b[0m \u001b[1m0s\u001b[0m 2ms/step - accuracy: 0.8672 - loss: 0.3288 - val_accuracy: 0.8637 - val_loss: 0.3433\n",
      "Epoch 30/100\n",
      "\u001b[1m200/200\u001b[0m \u001b[32m━━━━━━━━━━━━━━━━━━━━\u001b[0m\u001b[37m\u001b[0m \u001b[1m0s\u001b[0m 2ms/step - accuracy: 0.8706 - loss: 0.3269 - val_accuracy: 0.8581 - val_loss: 0.3448\n",
      "Epoch 31/100\n",
      "\u001b[1m200/200\u001b[0m \u001b[32m━━━━━━━━━━━━━━━━━━━━\u001b[0m\u001b[37m\u001b[0m \u001b[1m0s\u001b[0m 2ms/step - accuracy: 0.8591 - loss: 0.3355 - val_accuracy: 0.8619 - val_loss: 0.3433\n",
      "Epoch 32/100\n",
      "\u001b[1m200/200\u001b[0m \u001b[32m━━━━━━━━━━━━━━━━━━━━\u001b[0m\u001b[37m\u001b[0m \u001b[1m0s\u001b[0m 2ms/step - accuracy: 0.8667 - loss: 0.3312 - val_accuracy: 0.8519 - val_loss: 0.3516\n",
      "Epoch 33/100\n",
      "\u001b[1m200/200\u001b[0m \u001b[32m━━━━━━━━━━━━━━━━━━━━\u001b[0m\u001b[37m\u001b[0m \u001b[1m0s\u001b[0m 2ms/step - accuracy: 0.8675 - loss: 0.3230 - val_accuracy: 0.8537 - val_loss: 0.3491\n",
      "Epoch 34/100\n",
      "\u001b[1m200/200\u001b[0m \u001b[32m━━━━━━━━━━━━━━━━━━━━\u001b[0m\u001b[37m\u001b[0m \u001b[1m0s\u001b[0m 2ms/step - accuracy: 0.8615 - loss: 0.3308 - val_accuracy: 0.8619 - val_loss: 0.3418\n",
      "Epoch 35/100\n",
      "\u001b[1m200/200\u001b[0m \u001b[32m━━━━━━━━━━━━━━━━━━━━\u001b[0m\u001b[37m\u001b[0m \u001b[1m0s\u001b[0m 2ms/step - accuracy: 0.8658 - loss: 0.3240 - val_accuracy: 0.8569 - val_loss: 0.3473\n",
      "Epoch 36/100\n",
      "\u001b[1m200/200\u001b[0m \u001b[32m━━━━━━━━━━━━━━━━━━━━\u001b[0m\u001b[37m\u001b[0m \u001b[1m0s\u001b[0m 2ms/step - accuracy: 0.8664 - loss: 0.3254 - val_accuracy: 0.8625 - val_loss: 0.3427\n",
      "Epoch 37/100\n",
      "\u001b[1m200/200\u001b[0m \u001b[32m━━━━━━━━━━━━━━━━━━━━\u001b[0m\u001b[37m\u001b[0m \u001b[1m0s\u001b[0m 2ms/step - accuracy: 0.8684 - loss: 0.3243 - val_accuracy: 0.8594 - val_loss: 0.3459\n",
      "Epoch 38/100\n",
      "\u001b[1m200/200\u001b[0m \u001b[32m━━━━━━━━━━━━━━━━━━━━\u001b[0m\u001b[37m\u001b[0m \u001b[1m0s\u001b[0m 2ms/step - accuracy: 0.8751 - loss: 0.3162 - val_accuracy: 0.8612 - val_loss: 0.3443\n",
      "Epoch 39/100\n",
      "\u001b[1m200/200\u001b[0m \u001b[32m━━━━━━━━━━━━━━━━━━━━\u001b[0m\u001b[37m\u001b[0m \u001b[1m0s\u001b[0m 2ms/step - accuracy: 0.8682 - loss: 0.3254 - val_accuracy: 0.8637 - val_loss: 0.3435\n",
      "Epoch 40/100\n",
      "\u001b[1m200/200\u001b[0m \u001b[32m━━━━━━━━━━━━━━━━━━━━\u001b[0m\u001b[37m\u001b[0m \u001b[1m0s\u001b[0m 2ms/step - accuracy: 0.8647 - loss: 0.3252 - val_accuracy: 0.8606 - val_loss: 0.3432\n",
      "Epoch 41/100\n",
      "\u001b[1m200/200\u001b[0m \u001b[32m━━━━━━━━━━━━━━━━━━━━\u001b[0m\u001b[37m\u001b[0m \u001b[1m0s\u001b[0m 2ms/step - accuracy: 0.8623 - loss: 0.3284 - val_accuracy: 0.8606 - val_loss: 0.3442\n",
      "Epoch 42/100\n",
      "\u001b[1m200/200\u001b[0m \u001b[32m━━━━━━━━━━━━━━━━━━━━\u001b[0m\u001b[37m\u001b[0m \u001b[1m0s\u001b[0m 2ms/step - accuracy: 0.8593 - loss: 0.3357 - val_accuracy: 0.8619 - val_loss: 0.3423\n",
      "Epoch 43/100\n",
      "\u001b[1m200/200\u001b[0m \u001b[32m━━━━━━━━━━━━━━━━━━━━\u001b[0m\u001b[37m\u001b[0m \u001b[1m0s\u001b[0m 2ms/step - accuracy: 0.8738 - loss: 0.3185 - val_accuracy: 0.8606 - val_loss: 0.3414\n",
      "Epoch 44/100\n",
      "\u001b[1m200/200\u001b[0m \u001b[32m━━━━━━━━━━━━━━━━━━━━\u001b[0m\u001b[37m\u001b[0m \u001b[1m0s\u001b[0m 2ms/step - accuracy: 0.8598 - loss: 0.3366 - val_accuracy: 0.8612 - val_loss: 0.3433\n",
      "Epoch 45/100\n",
      "\u001b[1m200/200\u001b[0m \u001b[32m━━━━━━━━━━━━━━━━━━━━\u001b[0m\u001b[37m\u001b[0m \u001b[1m0s\u001b[0m 2ms/step - accuracy: 0.8679 - loss: 0.3200 - val_accuracy: 0.8550 - val_loss: 0.3544\n",
      "Epoch 46/100\n",
      "\u001b[1m200/200\u001b[0m \u001b[32m━━━━━━━━━━━━━━━━━━━━\u001b[0m\u001b[37m\u001b[0m \u001b[1m0s\u001b[0m 2ms/step - accuracy: 0.8685 - loss: 0.3265 - val_accuracy: 0.8637 - val_loss: 0.3433\n",
      "Epoch 47/100\n",
      "\u001b[1m200/200\u001b[0m \u001b[32m━━━━━━━━━━━━━━━━━━━━\u001b[0m\u001b[37m\u001b[0m \u001b[1m0s\u001b[0m 2ms/step - accuracy: 0.8629 - loss: 0.3271 - val_accuracy: 0.8606 - val_loss: 0.3426\n",
      "Epoch 48/100\n",
      "\u001b[1m200/200\u001b[0m \u001b[32m━━━━━━━━━━━━━━━━━━━━\u001b[0m\u001b[37m\u001b[0m \u001b[1m0s\u001b[0m 2ms/step - accuracy: 0.8660 - loss: 0.3255 - val_accuracy: 0.8631 - val_loss: 0.3436\n",
      "Epoch 49/100\n",
      "\u001b[1m200/200\u001b[0m \u001b[32m━━━━━━━━━━━━━━━━━━━━\u001b[0m\u001b[37m\u001b[0m \u001b[1m0s\u001b[0m 2ms/step - accuracy: 0.8638 - loss: 0.3258 - val_accuracy: 0.8606 - val_loss: 0.3431\n",
      "Epoch 50/100\n",
      "\u001b[1m200/200\u001b[0m \u001b[32m━━━━━━━━━━━━━━━━━━━━\u001b[0m\u001b[37m\u001b[0m \u001b[1m0s\u001b[0m 2ms/step - accuracy: 0.8588 - loss: 0.3342 - val_accuracy: 0.8556 - val_loss: 0.3460\n",
      "Epoch 51/100\n",
      "\u001b[1m200/200\u001b[0m \u001b[32m━━━━━━━━━━━━━━━━━━━━\u001b[0m\u001b[37m\u001b[0m \u001b[1m0s\u001b[0m 2ms/step - accuracy: 0.8767 - loss: 0.3194 - val_accuracy: 0.8619 - val_loss: 0.3427\n",
      "Epoch 52/100\n",
      "\u001b[1m200/200\u001b[0m \u001b[32m━━━━━━━━━━━━━━━━━━━━\u001b[0m\u001b[37m\u001b[0m \u001b[1m0s\u001b[0m 2ms/step - accuracy: 0.8592 - loss: 0.3333 - val_accuracy: 0.8612 - val_loss: 0.3445\n",
      "Epoch 53/100\n",
      "\u001b[1m200/200\u001b[0m \u001b[32m━━━━━━━━━━━━━━━━━━━━\u001b[0m\u001b[37m\u001b[0m \u001b[1m0s\u001b[0m 2ms/step - accuracy: 0.8747 - loss: 0.3123 - val_accuracy: 0.8587 - val_loss: 0.3467\n",
      "Epoch 54/100\n",
      "\u001b[1m200/200\u001b[0m \u001b[32m━━━━━━━━━━━━━━━━━━━━\u001b[0m\u001b[37m\u001b[0m \u001b[1m0s\u001b[0m 2ms/step - accuracy: 0.8624 - loss: 0.3339 - val_accuracy: 0.8637 - val_loss: 0.3467\n",
      "Epoch 55/100\n",
      "\u001b[1m200/200\u001b[0m \u001b[32m━━━━━━━━━━━━━━━━━━━━\u001b[0m\u001b[37m\u001b[0m \u001b[1m0s\u001b[0m 2ms/step - accuracy: 0.8668 - loss: 0.3258 - val_accuracy: 0.8562 - val_loss: 0.3480\n",
      "Epoch 56/100\n",
      "\u001b[1m200/200\u001b[0m \u001b[32m━━━━━━━━━━━━━━━━━━━━\u001b[0m\u001b[37m\u001b[0m \u001b[1m0s\u001b[0m 2ms/step - accuracy: 0.8741 - loss: 0.3153 - val_accuracy: 0.8612 - val_loss: 0.3490\n",
      "Epoch 57/100\n",
      "\u001b[1m200/200\u001b[0m \u001b[32m━━━━━━━━━━━━━━━━━━━━\u001b[0m\u001b[37m\u001b[0m \u001b[1m0s\u001b[0m 2ms/step - accuracy: 0.8685 - loss: 0.3214 - val_accuracy: 0.8600 - val_loss: 0.3465\n",
      "Epoch 58/100\n",
      "\u001b[1m200/200\u001b[0m \u001b[32m━━━━━━━━━━━━━━━━━━━━\u001b[0m\u001b[37m\u001b[0m \u001b[1m0s\u001b[0m 2ms/step - accuracy: 0.8691 - loss: 0.3214 - val_accuracy: 0.8569 - val_loss: 0.3468\n",
      "Epoch 59/100\n",
      "\u001b[1m200/200\u001b[0m \u001b[32m━━━━━━━━━━━━━━━━━━━━\u001b[0m\u001b[37m\u001b[0m \u001b[1m0s\u001b[0m 2ms/step - accuracy: 0.8736 - loss: 0.3124 - val_accuracy: 0.8569 - val_loss: 0.3468\n",
      "Epoch 60/100\n",
      "\u001b[1m200/200\u001b[0m \u001b[32m━━━━━━━━━━━━━━━━━━━━\u001b[0m\u001b[37m\u001b[0m \u001b[1m0s\u001b[0m 2ms/step - accuracy: 0.8677 - loss: 0.3201 - val_accuracy: 0.8612 - val_loss: 0.3450\n",
      "Epoch 61/100\n",
      "\u001b[1m200/200\u001b[0m \u001b[32m━━━━━━━━━━━━━━━━━━━━\u001b[0m\u001b[37m\u001b[0m \u001b[1m0s\u001b[0m 2ms/step - accuracy: 0.8621 - loss: 0.3255 - val_accuracy: 0.8606 - val_loss: 0.3480\n",
      "Epoch 62/100\n",
      "\u001b[1m200/200\u001b[0m \u001b[32m━━━━━━━━━━━━━━━━━━━━\u001b[0m\u001b[37m\u001b[0m \u001b[1m0s\u001b[0m 2ms/step - accuracy: 0.8729 - loss: 0.3088 - val_accuracy: 0.8612 - val_loss: 0.3463\n",
      "Epoch 63/100\n",
      "\u001b[1m200/200\u001b[0m \u001b[32m━━━━━━━━━━━━━━━━━━━━\u001b[0m\u001b[37m\u001b[0m \u001b[1m0s\u001b[0m 2ms/step - accuracy: 0.8651 - loss: 0.3289 - val_accuracy: 0.8606 - val_loss: 0.3494\n",
      "Epoch 64/100\n",
      "\u001b[1m200/200\u001b[0m \u001b[32m━━━━━━━━━━━━━━━━━━━━\u001b[0m\u001b[37m\u001b[0m \u001b[1m0s\u001b[0m 2ms/step - accuracy: 0.8801 - loss: 0.3013 - val_accuracy: 0.8631 - val_loss: 0.3462\n",
      "Epoch 65/100\n",
      "\u001b[1m200/200\u001b[0m \u001b[32m━━━━━━━━━━━━━━━━━━━━\u001b[0m\u001b[37m\u001b[0m \u001b[1m0s\u001b[0m 2ms/step - accuracy: 0.8712 - loss: 0.3187 - val_accuracy: 0.8606 - val_loss: 0.3490\n",
      "Epoch 66/100\n",
      "\u001b[1m200/200\u001b[0m \u001b[32m━━━━━━━━━━━━━━━━━━━━\u001b[0m\u001b[37m\u001b[0m \u001b[1m0s\u001b[0m 2ms/step - accuracy: 0.8718 - loss: 0.3118 - val_accuracy: 0.8587 - val_loss: 0.3480\n",
      "Epoch 67/100\n",
      "\u001b[1m200/200\u001b[0m \u001b[32m━━━━━━━━━━━━━━━━━━━━\u001b[0m\u001b[37m\u001b[0m \u001b[1m0s\u001b[0m 2ms/step - accuracy: 0.8716 - loss: 0.3120 - val_accuracy: 0.8587 - val_loss: 0.3506\n",
      "Epoch 68/100\n",
      "\u001b[1m200/200\u001b[0m \u001b[32m━━━━━━━━━━━━━━━━━━━━\u001b[0m\u001b[37m\u001b[0m \u001b[1m0s\u001b[0m 2ms/step - accuracy: 0.8665 - loss: 0.3177 - val_accuracy: 0.8594 - val_loss: 0.3518\n",
      "Epoch 69/100\n",
      "\u001b[1m200/200\u001b[0m \u001b[32m━━━━━━━━━━━━━━━━━━━━\u001b[0m\u001b[37m\u001b[0m \u001b[1m0s\u001b[0m 2ms/step - accuracy: 0.8728 - loss: 0.3168 - val_accuracy: 0.8606 - val_loss: 0.3485\n",
      "Epoch 70/100\n",
      "\u001b[1m200/200\u001b[0m \u001b[32m━━━━━━━━━━━━━━━━━━━━\u001b[0m\u001b[37m\u001b[0m \u001b[1m0s\u001b[0m 2ms/step - accuracy: 0.8630 - loss: 0.3270 - val_accuracy: 0.8606 - val_loss: 0.3476\n",
      "Epoch 71/100\n",
      "\u001b[1m200/200\u001b[0m \u001b[32m━━━━━━━━━━━━━━━━━━━━\u001b[0m\u001b[37m\u001b[0m \u001b[1m0s\u001b[0m 2ms/step - accuracy: 0.8711 - loss: 0.3088 - val_accuracy: 0.8581 - val_loss: 0.3497\n",
      "Epoch 72/100\n",
      "\u001b[1m200/200\u001b[0m \u001b[32m━━━━━━━━━━━━━━━━━━━━\u001b[0m\u001b[37m\u001b[0m \u001b[1m0s\u001b[0m 2ms/step - accuracy: 0.8744 - loss: 0.3121 - val_accuracy: 0.8600 - val_loss: 0.3495\n",
      "Epoch 73/100\n",
      "\u001b[1m200/200\u001b[0m \u001b[32m━━━━━━━━━━━━━━━━━━━━\u001b[0m\u001b[37m\u001b[0m \u001b[1m0s\u001b[0m 2ms/step - accuracy: 0.8662 - loss: 0.3148 - val_accuracy: 0.8581 - val_loss: 0.3510\n",
      "Epoch 74/100\n",
      "\u001b[1m200/200\u001b[0m \u001b[32m━━━━━━━━━━━━━━━━━━━━\u001b[0m\u001b[37m\u001b[0m \u001b[1m0s\u001b[0m 2ms/step - accuracy: 0.8618 - loss: 0.3246 - val_accuracy: 0.8487 - val_loss: 0.3590\n",
      "Epoch 75/100\n",
      "\u001b[1m200/200\u001b[0m \u001b[32m━━━━━━━━━━━━━━━━━━━━\u001b[0m\u001b[37m\u001b[0m \u001b[1m0s\u001b[0m 2ms/step - accuracy: 0.8648 - loss: 0.3290 - val_accuracy: 0.8600 - val_loss: 0.3494\n",
      "Epoch 76/100\n",
      "\u001b[1m200/200\u001b[0m \u001b[32m━━━━━━━━━━━━━━━━━━━━\u001b[0m\u001b[37m\u001b[0m \u001b[1m0s\u001b[0m 2ms/step - accuracy: 0.8731 - loss: 0.3105 - val_accuracy: 0.8562 - val_loss: 0.3542\n",
      "Epoch 77/100\n",
      "\u001b[1m200/200\u001b[0m \u001b[32m━━━━━━━━━━━━━━━━━━━━\u001b[0m\u001b[37m\u001b[0m \u001b[1m0s\u001b[0m 2ms/step - accuracy: 0.8732 - loss: 0.3131 - val_accuracy: 0.8581 - val_loss: 0.3496\n",
      "Epoch 78/100\n",
      "\u001b[1m200/200\u001b[0m \u001b[32m━━━━━━━━━━━━━━━━━━━━\u001b[0m\u001b[37m\u001b[0m \u001b[1m0s\u001b[0m 2ms/step - accuracy: 0.8662 - loss: 0.3150 - val_accuracy: 0.8575 - val_loss: 0.3511\n",
      "Epoch 79/100\n",
      "\u001b[1m200/200\u001b[0m \u001b[32m━━━━━━━━━━━━━━━━━━━━\u001b[0m\u001b[37m\u001b[0m \u001b[1m0s\u001b[0m 2ms/step - accuracy: 0.8660 - loss: 0.3206 - val_accuracy: 0.8606 - val_loss: 0.3518\n",
      "Epoch 80/100\n",
      "\u001b[1m200/200\u001b[0m \u001b[32m━━━━━━━━━━━━━━━━━━━━\u001b[0m\u001b[37m\u001b[0m \u001b[1m0s\u001b[0m 2ms/step - accuracy: 0.8771 - loss: 0.3047 - val_accuracy: 0.8606 - val_loss: 0.3488\n",
      "Epoch 81/100\n",
      "\u001b[1m200/200\u001b[0m \u001b[32m━━━━━━━━━━━━━━━━━━━━\u001b[0m\u001b[37m\u001b[0m \u001b[1m0s\u001b[0m 2ms/step - accuracy: 0.8755 - loss: 0.3081 - val_accuracy: 0.8575 - val_loss: 0.3544\n",
      "Epoch 82/100\n",
      "\u001b[1m200/200\u001b[0m \u001b[32m━━━━━━━━━━━━━━━━━━━━\u001b[0m\u001b[37m\u001b[0m \u001b[1m0s\u001b[0m 2ms/step - accuracy: 0.8673 - loss: 0.3162 - val_accuracy: 0.8544 - val_loss: 0.3531\n",
      "Epoch 83/100\n",
      "\u001b[1m200/200\u001b[0m \u001b[32m━━━━━━━━━━━━━━━━━━━━\u001b[0m\u001b[37m\u001b[0m \u001b[1m0s\u001b[0m 2ms/step - accuracy: 0.8615 - loss: 0.3314 - val_accuracy: 0.8556 - val_loss: 0.3511\n",
      "Epoch 84/100\n",
      "\u001b[1m200/200\u001b[0m \u001b[32m━━━━━━━━━━━━━━━━━━━━\u001b[0m\u001b[37m\u001b[0m \u001b[1m0s\u001b[0m 2ms/step - accuracy: 0.8709 - loss: 0.3134 - val_accuracy: 0.8569 - val_loss: 0.3520\n",
      "Epoch 85/100\n",
      "\u001b[1m200/200\u001b[0m \u001b[32m━━━━━━━━━━━━━━━━━━━━\u001b[0m\u001b[37m\u001b[0m \u001b[1m0s\u001b[0m 2ms/step - accuracy: 0.8731 - loss: 0.3073 - val_accuracy: 0.8581 - val_loss: 0.3496\n",
      "Epoch 86/100\n",
      "\u001b[1m200/200\u001b[0m \u001b[32m━━━━━━━━━━━━━━━━━━━━\u001b[0m\u001b[37m\u001b[0m \u001b[1m0s\u001b[0m 2ms/step - accuracy: 0.8742 - loss: 0.3034 - val_accuracy: 0.8587 - val_loss: 0.3508\n",
      "Epoch 87/100\n",
      "\u001b[1m200/200\u001b[0m \u001b[32m━━━━━━━━━━━━━━━━━━━━\u001b[0m\u001b[37m\u001b[0m \u001b[1m0s\u001b[0m 2ms/step - accuracy: 0.8714 - loss: 0.3048 - val_accuracy: 0.8506 - val_loss: 0.3562\n",
      "Epoch 88/100\n",
      "\u001b[1m200/200\u001b[0m \u001b[32m━━━━━━━━━━━━━━━━━━━━\u001b[0m\u001b[37m\u001b[0m \u001b[1m1s\u001b[0m 2ms/step - accuracy: 0.8716 - loss: 0.3084 - val_accuracy: 0.8556 - val_loss: 0.3511\n",
      "Epoch 89/100\n",
      "\u001b[1m200/200\u001b[0m \u001b[32m━━━━━━━━━━━━━━━━━━━━\u001b[0m\u001b[37m\u001b[0m \u001b[1m0s\u001b[0m 2ms/step - accuracy: 0.8736 - loss: 0.3150 - val_accuracy: 0.8544 - val_loss: 0.3523\n",
      "Epoch 90/100\n",
      "\u001b[1m200/200\u001b[0m \u001b[32m━━━━━━━━━━━━━━━━━━━━\u001b[0m\u001b[37m\u001b[0m \u001b[1m0s\u001b[0m 2ms/step - accuracy: 0.8717 - loss: 0.3088 - val_accuracy: 0.8575 - val_loss: 0.3503\n",
      "Epoch 91/100\n",
      "\u001b[1m200/200\u001b[0m \u001b[32m━━━━━━━━━━━━━━━━━━━━\u001b[0m\u001b[37m\u001b[0m \u001b[1m0s\u001b[0m 2ms/step - accuracy: 0.8755 - loss: 0.3071 - val_accuracy: 0.8556 - val_loss: 0.3540\n",
      "Epoch 92/100\n",
      "\u001b[1m200/200\u001b[0m \u001b[32m━━━━━━━━━━━━━━━━━━━━\u001b[0m\u001b[37m\u001b[0m \u001b[1m0s\u001b[0m 2ms/step - accuracy: 0.8712 - loss: 0.3181 - val_accuracy: 0.8569 - val_loss: 0.3494\n",
      "Epoch 93/100\n",
      "\u001b[1m200/200\u001b[0m \u001b[32m━━━━━━━━━━━━━━━━━━━━\u001b[0m\u001b[37m\u001b[0m \u001b[1m0s\u001b[0m 2ms/step - accuracy: 0.8628 - loss: 0.3185 - val_accuracy: 0.8594 - val_loss: 0.3539\n",
      "Epoch 94/100\n",
      "\u001b[1m200/200\u001b[0m \u001b[32m━━━━━━━━━━━━━━━━━━━━\u001b[0m\u001b[37m\u001b[0m \u001b[1m0s\u001b[0m 2ms/step - accuracy: 0.8726 - loss: 0.3047 - val_accuracy: 0.8544 - val_loss: 0.3500\n",
      "Epoch 95/100\n",
      "\u001b[1m200/200\u001b[0m \u001b[32m━━━━━━━━━━━━━━━━━━━━\u001b[0m\u001b[37m\u001b[0m \u001b[1m0s\u001b[0m 2ms/step - accuracy: 0.8739 - loss: 0.3123 - val_accuracy: 0.8544 - val_loss: 0.3519\n",
      "Epoch 96/100\n",
      "\u001b[1m200/200\u001b[0m \u001b[32m━━━━━━━━━━━━━━━━━━━━\u001b[0m\u001b[37m\u001b[0m \u001b[1m0s\u001b[0m 2ms/step - accuracy: 0.8665 - loss: 0.3092 - val_accuracy: 0.8562 - val_loss: 0.3504\n",
      "Epoch 97/100\n",
      "\u001b[1m200/200\u001b[0m \u001b[32m━━━━━━━━━━━━━━━━━━━━\u001b[0m\u001b[37m\u001b[0m \u001b[1m0s\u001b[0m 2ms/step - accuracy: 0.8711 - loss: 0.3137 - val_accuracy: 0.8562 - val_loss: 0.3568\n",
      "Epoch 98/100\n",
      "\u001b[1m200/200\u001b[0m \u001b[32m━━━━━━━━━━━━━━━━━━━━\u001b[0m\u001b[37m\u001b[0m \u001b[1m0s\u001b[0m 2ms/step - accuracy: 0.8723 - loss: 0.3061 - val_accuracy: 0.8562 - val_loss: 0.3552\n",
      "Epoch 99/100\n",
      "\u001b[1m200/200\u001b[0m \u001b[32m━━━━━━━━━━━━━━━━━━━━\u001b[0m\u001b[37m\u001b[0m \u001b[1m0s\u001b[0m 2ms/step - accuracy: 0.8644 - loss: 0.3277 - val_accuracy: 0.8531 - val_loss: 0.3556\n",
      "Epoch 100/100\n",
      "\u001b[1m200/200\u001b[0m \u001b[32m━━━━━━━━━━━━━━━━━━━━\u001b[0m\u001b[37m\u001b[0m \u001b[1m0s\u001b[0m 2ms/step - accuracy: 0.8754 - loss: 0.3046 - val_accuracy: 0.8550 - val_loss: 0.3521\n"
     ]
    }
   ],
   "source": [
    "history = model.fit(X_train_scaled,y_train,epochs = 100,validation_split = 0.2)"
   ]
  },
  {
   "cell_type": "code",
   "execution_count": 19,
   "id": "dd0e85b1",
   "metadata": {
    "execution": {
     "iopub.execute_input": "2024-08-23T19:35:06.828745Z",
     "iopub.status.busy": "2024-08-23T19:35:06.827721Z",
     "iopub.status.idle": "2024-08-23T19:35:06.840978Z",
     "shell.execute_reply": "2024-08-23T19:35:06.839993Z"
    },
    "papermill": {
     "duration": 0.092787,
     "end_time": "2024-08-23T19:35:06.843001",
     "exception": false,
     "start_time": "2024-08-23T19:35:06.750214",
     "status": "completed"
    },
    "tags": []
   },
   "outputs": [
    {
     "data": {
      "text/plain": [
       "[array([[ 0.0632557 , -0.10154375,  0.07780027,  0.11866622,  0.21873315,\n",
       "         -0.03671982, -0.10917947,  0.11773048,  0.35776004,  0.04247222,\n",
       "         -0.6608622 ],\n",
       "        [ 1.3043748 , -0.41105804,  0.08848421,  0.23330556, -0.4744381 ,\n",
       "         -0.5016236 , -0.7660346 ,  0.59140885, -0.17882286, -0.27899984,\n",
       "          0.29935145],\n",
       "        [ 0.05355789, -0.23042826, -0.21996264, -0.01945281,  0.5215229 ,\n",
       "          0.323796  ,  0.31402692,  0.0537062 ,  0.13095611, -0.60984087,\n",
       "         -0.33623222],\n",
       "        [-0.03640939,  0.08442318,  0.22303553,  0.22687775, -0.5737468 ,\n",
       "          0.04996475, -0.55352306,  0.04987849, -0.5319385 ,  0.733323  ,\n",
       "         -0.5805363 ],\n",
       "        [-0.35217273,  0.39361584, -0.499336  ,  0.6695012 , -0.25539583,\n",
       "          0.94244975, -0.00949897,  0.68106633, -0.18283719, -0.0329809 ,\n",
       "         -0.34130323],\n",
       "        [-0.34674388, -0.6128552 , -0.20542364, -0.35908777, -0.5032717 ,\n",
       "         -0.5179685 ,  0.5140987 , -0.0446349 , -0.14223059,  0.39875588,\n",
       "         -0.59973514],\n",
       "        [-0.33575144,  0.2493194 , -0.7684393 , -0.79183066,  0.37531006,\n",
       "          0.00195111,  0.49993357,  0.5573554 , -0.00877532,  0.09495521,\n",
       "          0.44124404],\n",
       "        [-0.05037937,  0.11586637,  0.02788706, -0.06681998, -0.04226113,\n",
       "         -0.07707019,  0.17131315,  0.00997797, -0.27986178, -0.33763447,\n",
       "          0.32183528],\n",
       "        [ 0.04262709, -0.35463524,  0.26574442, -0.26351303,  0.4331074 ,\n",
       "          0.25485772, -0.21165699, -0.0280127 , -0.5940549 ,  0.14679436,\n",
       "          0.04579302],\n",
       "        [-0.05416512, -0.41566932, -0.07387269, -0.02165287,  0.25560036,\n",
       "          0.34685147, -0.02767068,  0.3793567 ,  0.10090677, -0.16684616,\n",
       "         -0.0818385 ],\n",
       "        [-0.22613311,  0.20705992, -0.23320325, -0.1793988 ,  0.20407493,\n",
       "         -0.11512087,  0.42200643,  0.0504215 , -0.10610037,  0.34753385,\n",
       "          0.18577363]], dtype=float32),\n",
       " array([-0.01180961,  0.4375326 ,  0.46452647,  0.20871589,  0.22194488,\n",
       "         0.49196005,  0.6095782 ,  0.12206154,  0.58027923,  0.28114554,\n",
       "        -0.4751951 ], dtype=float32)]"
      ]
     },
     "execution_count": 19,
     "metadata": {},
     "output_type": "execute_result"
    }
   ],
   "source": [
    "model.layers[0].get_weights()"
   ]
  },
  {
   "cell_type": "code",
   "execution_count": 20,
   "id": "1b60c058",
   "metadata": {
    "execution": {
     "iopub.execute_input": "2024-08-23T19:35:06.998498Z",
     "iopub.status.busy": "2024-08-23T19:35:06.997763Z",
     "iopub.status.idle": "2024-08-23T19:35:07.510762Z",
     "shell.execute_reply": "2024-08-23T19:35:07.509825Z"
    },
    "papermill": {
     "duration": 0.593319,
     "end_time": "2024-08-23T19:35:07.513043",
     "exception": false,
     "start_time": "2024-08-23T19:35:06.919724",
     "status": "completed"
    },
    "tags": []
   },
   "outputs": [
    {
     "name": "stdout",
     "output_type": "stream",
     "text": [
      "\u001b[1m63/63\u001b[0m \u001b[32m━━━━━━━━━━━━━━━━━━━━\u001b[0m\u001b[37m\u001b[0m \u001b[1m0s\u001b[0m 4ms/step\n"
     ]
    }
   ],
   "source": [
    "y_log = model.predict(X_test_scaled)"
   ]
  },
  {
   "cell_type": "code",
   "execution_count": 21,
   "id": "c20ab77a",
   "metadata": {
    "execution": {
     "iopub.execute_input": "2024-08-23T19:35:07.666891Z",
     "iopub.status.busy": "2024-08-23T19:35:07.666535Z",
     "iopub.status.idle": "2024-08-23T19:35:07.671347Z",
     "shell.execute_reply": "2024-08-23T19:35:07.670295Z"
    },
    "papermill": {
     "duration": 0.083773,
     "end_time": "2024-08-23T19:35:07.673599",
     "exception": false,
     "start_time": "2024-08-23T19:35:07.589826",
     "status": "completed"
    },
    "tags": []
   },
   "outputs": [],
   "source": [
    "y_pred = np.where(y_log>0.5,1,0)"
   ]
  },
  {
   "cell_type": "code",
   "execution_count": 22,
   "id": "8d3fe613",
   "metadata": {
    "execution": {
     "iopub.execute_input": "2024-08-23T19:35:07.832832Z",
     "iopub.status.busy": "2024-08-23T19:35:07.831974Z",
     "iopub.status.idle": "2024-08-23T19:35:07.838098Z",
     "shell.execute_reply": "2024-08-23T19:35:07.837260Z"
    },
    "papermill": {
     "duration": 0.087455,
     "end_time": "2024-08-23T19:35:07.840149",
     "exception": false,
     "start_time": "2024-08-23T19:35:07.752694",
     "status": "completed"
    },
    "tags": []
   },
   "outputs": [
    {
     "data": {
      "text/plain": [
       "(2000, 1)"
      ]
     },
     "execution_count": 22,
     "metadata": {},
     "output_type": "execute_result"
    }
   ],
   "source": [
    "y_pred.shape"
   ]
  },
  {
   "cell_type": "code",
   "execution_count": 23,
   "id": "47ee01b4",
   "metadata": {
    "execution": {
     "iopub.execute_input": "2024-08-23T19:35:07.994742Z",
     "iopub.status.busy": "2024-08-23T19:35:07.994390Z",
     "iopub.status.idle": "2024-08-23T19:35:08.003089Z",
     "shell.execute_reply": "2024-08-23T19:35:08.002047Z"
    },
    "papermill": {
     "duration": 0.088315,
     "end_time": "2024-08-23T19:35:08.005149",
     "exception": false,
     "start_time": "2024-08-23T19:35:07.916834",
     "status": "completed"
    },
    "tags": []
   },
   "outputs": [
    {
     "data": {
      "text/plain": [
       "0.8635"
      ]
     },
     "execution_count": 23,
     "metadata": {},
     "output_type": "execute_result"
    }
   ],
   "source": [
    "from sklearn.metrics import accuracy_score\n",
    "accuracy_score(y_test,y_pred)"
   ]
  },
  {
   "cell_type": "code",
   "execution_count": 24,
   "id": "b7678fd6",
   "metadata": {
    "execution": {
     "iopub.execute_input": "2024-08-23T19:35:08.207210Z",
     "iopub.status.busy": "2024-08-23T19:35:08.206349Z",
     "iopub.status.idle": "2024-08-23T19:35:08.217816Z",
     "shell.execute_reply": "2024-08-23T19:35:08.216919Z"
    },
    "papermill": {
     "duration": 0.091782,
     "end_time": "2024-08-23T19:35:08.220006",
     "exception": false,
     "start_time": "2024-08-23T19:35:08.128224",
     "status": "completed"
    },
    "tags": []
   },
   "outputs": [
    {
     "data": {
      "text/plain": [
       "{'accuracy': [0.7776562571525574,\n",
       "  0.7993749976158142,\n",
       "  0.8067187666893005,\n",
       "  0.815625011920929,\n",
       "  0.8235937356948853,\n",
       "  0.8348437547683716,\n",
       "  0.8410937786102295,\n",
       "  0.8428124785423279,\n",
       "  0.8453124761581421,\n",
       "  0.8471875190734863,\n",
       "  0.8506249785423279,\n",
       "  0.8529687523841858,\n",
       "  0.8542187213897705,\n",
       "  0.856249988079071,\n",
       "  0.8570312261581421,\n",
       "  0.859375,\n",
       "  0.8581249713897705,\n",
       "  0.8600000143051147,\n",
       "  0.8607812523841858,\n",
       "  0.8618749976158142,\n",
       "  0.8617187738418579,\n",
       "  0.8618749976158142,\n",
       "  0.8618749976158142,\n",
       "  0.862500011920929,\n",
       "  0.8645312786102295,\n",
       "  0.8621875047683716,\n",
       "  0.8657812476158142,\n",
       "  0.8662499785423279,\n",
       "  0.8653125166893005,\n",
       "  0.866406261920929,\n",
       "  0.8646875023841858,\n",
       "  0.8662499785423279,\n",
       "  0.8675000071525574,\n",
       "  0.8650000095367432,\n",
       "  0.8670312762260437,\n",
       "  0.8665624856948853,\n",
       "  0.8668749928474426,\n",
       "  0.8667187690734863,\n",
       "  0.866406261920929,\n",
       "  0.8681250214576721,\n",
       "  0.8662499785423279,\n",
       "  0.867968738079071,\n",
       "  0.8673437237739563,\n",
       "  0.8678125143051147,\n",
       "  0.8665624856948853,\n",
       "  0.8667187690734863,\n",
       "  0.8670312762260437,\n",
       "  0.8681250214576721,\n",
       "  0.8662499785423279,\n",
       "  0.867968738079071,\n",
       "  0.8695312738418579,\n",
       "  0.8671875,\n",
       "  0.8684375286102295,\n",
       "  0.8662499785423279,\n",
       "  0.8671875,\n",
       "  0.8685937523841858,\n",
       "  0.8695312738418579,\n",
       "  0.8684375286102295,\n",
       "  0.8684375286102295,\n",
       "  0.8675000071525574,\n",
       "  0.8695312738418579,\n",
       "  0.8676562309265137,\n",
       "  0.8696874976158142,\n",
       "  0.8684375286102295,\n",
       "  0.8696874976158142,\n",
       "  0.8673437237739563,\n",
       "  0.870312511920929,\n",
       "  0.8685937523841858,\n",
       "  0.8712499737739563,\n",
       "  0.8684375286102295,\n",
       "  0.8678125143051147,\n",
       "  0.8690624833106995,\n",
       "  0.8698437213897705,\n",
       "  0.8706250190734863,\n",
       "  0.8690624833106995,\n",
       "  0.8698437213897705,\n",
       "  0.8721874952316284,\n",
       "  0.8706250190734863,\n",
       "  0.8712499737739563,\n",
       "  0.8714062571525574,\n",
       "  0.8698437213897705,\n",
       "  0.8681250214576721,\n",
       "  0.8701562285423279,\n",
       "  0.8685937523841858,\n",
       "  0.8685937523841858,\n",
       "  0.8695312738418579,\n",
       "  0.8662499785423279,\n",
       "  0.8693749904632568,\n",
       "  0.8709375262260437,\n",
       "  0.8692187666893005,\n",
       "  0.87109375,\n",
       "  0.8715624809265137,\n",
       "  0.8689062595367432,\n",
       "  0.87109375,\n",
       "  0.8706250190734863,\n",
       "  0.867968738079071,\n",
       "  0.871874988079071,\n",
       "  0.871874988079071,\n",
       "  0.8728125095367432,\n",
       "  0.8714062571525574],\n",
       " 'loss': [0.5431790947914124,\n",
       "  0.4514179527759552,\n",
       "  0.43326517939567566,\n",
       "  0.4222901165485382,\n",
       "  0.4046417474746704,\n",
       "  0.3860766291618347,\n",
       "  0.3749679625034332,\n",
       "  0.36650872230529785,\n",
       "  0.3630286455154419,\n",
       "  0.3586120307445526,\n",
       "  0.3557206988334656,\n",
       "  0.352613627910614,\n",
       "  0.35007327795028687,\n",
       "  0.34721601009368896,\n",
       "  0.34458160400390625,\n",
       "  0.34305915236473083,\n",
       "  0.341462105512619,\n",
       "  0.33886128664016724,\n",
       "  0.33784323930740356,\n",
       "  0.3359067142009735,\n",
       "  0.33629563450813293,\n",
       "  0.3352144658565521,\n",
       "  0.3336912989616394,\n",
       "  0.3325733542442322,\n",
       "  0.3314622938632965,\n",
       "  0.33117544651031494,\n",
       "  0.32957592606544495,\n",
       "  0.32892748713493347,\n",
       "  0.32890021800994873,\n",
       "  0.32799243927001953,\n",
       "  0.32763099670410156,\n",
       "  0.3267744183540344,\n",
       "  0.32576313614845276,\n",
       "  0.326387494802475,\n",
       "  0.3250262141227722,\n",
       "  0.3252532482147217,\n",
       "  0.3243005871772766,\n",
       "  0.32421788573265076,\n",
       "  0.32433903217315674,\n",
       "  0.32516083121299744,\n",
       "  0.323640912771225,\n",
       "  0.3228866457939148,\n",
       "  0.3227033317089081,\n",
       "  0.3217913508415222,\n",
       "  0.3220158815383911,\n",
       "  0.32322296500205994,\n",
       "  0.32160359621047974,\n",
       "  0.32116246223449707,\n",
       "  0.32252389192581177,\n",
       "  0.32124030590057373,\n",
       "  0.3203783929347992,\n",
       "  0.320773720741272,\n",
       "  0.32064804434776306,\n",
       "  0.3202923834323883,\n",
       "  0.3208356201648712,\n",
       "  0.32009777426719666,\n",
       "  0.320078581571579,\n",
       "  0.3189440071582794,\n",
       "  0.3187769949436188,\n",
       "  0.31928056478500366,\n",
       "  0.3185063600540161,\n",
       "  0.3184216022491455,\n",
       "  0.31780102849006653,\n",
       "  0.31839871406555176,\n",
       "  0.31735876202583313,\n",
       "  0.3183683454990387,\n",
       "  0.31647664308547974,\n",
       "  0.3176562786102295,\n",
       "  0.3174341022968292,\n",
       "  0.31679341197013855,\n",
       "  0.31841737031936646,\n",
       "  0.3174636662006378,\n",
       "  0.3162572979927063,\n",
       "  0.31470608711242676,\n",
       "  0.3161681294441223,\n",
       "  0.3148798942565918,\n",
       "  0.3147714138031006,\n",
       "  0.31551069021224976,\n",
       "  0.315329372882843,\n",
       "  0.31481412053108215,\n",
       "  0.3142217695713043,\n",
       "  0.314860999584198,\n",
       "  0.31462612748146057,\n",
       "  0.3166450262069702,\n",
       "  0.31631961464881897,\n",
       "  0.31616565585136414,\n",
       "  0.3152792155742645,\n",
       "  0.31579726934432983,\n",
       "  0.3141806125640869,\n",
       "  0.31431844830513,\n",
       "  0.314355731010437,\n",
       "  0.3141690194606781,\n",
       "  0.314023494720459,\n",
       "  0.312256783246994,\n",
       "  0.3131445348262787,\n",
       "  0.3133322596549988,\n",
       "  0.31305521726608276,\n",
       "  0.3128073811531067,\n",
       "  0.31185951828956604,\n",
       "  0.31320616602897644],\n",
       " 'val_accuracy': [0.7975000143051147,\n",
       "  0.7993749976158142,\n",
       "  0.8087499737739563,\n",
       "  0.8181250095367432,\n",
       "  0.8237500190734863,\n",
       "  0.8331249952316284,\n",
       "  0.8418750166893005,\n",
       "  0.8349999785423279,\n",
       "  0.84375,\n",
       "  0.8462499976158142,\n",
       "  0.84375,\n",
       "  0.8450000286102295,\n",
       "  0.846875011920929,\n",
       "  0.8506249785423279,\n",
       "  0.8493750095367432,\n",
       "  0.8537499904632568,\n",
       "  0.8531249761581421,\n",
       "  0.8550000190734863,\n",
       "  0.8568750023841858,\n",
       "  0.8556249737739563,\n",
       "  0.8575000166893005,\n",
       "  0.8568750023841858,\n",
       "  0.862500011920929,\n",
       "  0.856249988079071,\n",
       "  0.8543750047683716,\n",
       "  0.859375,\n",
       "  0.8600000143051147,\n",
       "  0.8618749976158142,\n",
       "  0.8637499809265137,\n",
       "  0.8581249713897705,\n",
       "  0.8618749976158142,\n",
       "  0.8518750071525574,\n",
       "  0.8537499904632568,\n",
       "  0.8618749976158142,\n",
       "  0.8568750023841858,\n",
       "  0.862500011920929,\n",
       "  0.859375,\n",
       "  0.8612499833106995,\n",
       "  0.8637499809265137,\n",
       "  0.8606250286102295,\n",
       "  0.8606250286102295,\n",
       "  0.8618749976158142,\n",
       "  0.8606250286102295,\n",
       "  0.8612499833106995,\n",
       "  0.8550000190734863,\n",
       "  0.8637499809265137,\n",
       "  0.8606250286102295,\n",
       "  0.8631250262260437,\n",
       "  0.8606250286102295,\n",
       "  0.8556249737739563,\n",
       "  0.8618749976158142,\n",
       "  0.8612499833106995,\n",
       "  0.8587499856948853,\n",
       "  0.8637499809265137,\n",
       "  0.856249988079071,\n",
       "  0.8612499833106995,\n",
       "  0.8600000143051147,\n",
       "  0.8568750023841858,\n",
       "  0.8568750023841858,\n",
       "  0.8612499833106995,\n",
       "  0.8606250286102295,\n",
       "  0.8612499833106995,\n",
       "  0.8606250286102295,\n",
       "  0.8631250262260437,\n",
       "  0.8606250286102295,\n",
       "  0.8587499856948853,\n",
       "  0.8587499856948853,\n",
       "  0.859375,\n",
       "  0.8606250286102295,\n",
       "  0.8606250286102295,\n",
       "  0.8581249713897705,\n",
       "  0.8600000143051147,\n",
       "  0.8581249713897705,\n",
       "  0.8487499952316284,\n",
       "  0.8600000143051147,\n",
       "  0.856249988079071,\n",
       "  0.8581249713897705,\n",
       "  0.8575000166893005,\n",
       "  0.8606250286102295,\n",
       "  0.8606250286102295,\n",
       "  0.8575000166893005,\n",
       "  0.8543750047683716,\n",
       "  0.8556249737739563,\n",
       "  0.8568750023841858,\n",
       "  0.8581249713897705,\n",
       "  0.8587499856948853,\n",
       "  0.8506249785423279,\n",
       "  0.8556249737739563,\n",
       "  0.8543750047683716,\n",
       "  0.8575000166893005,\n",
       "  0.8556249737739563,\n",
       "  0.8568750023841858,\n",
       "  0.859375,\n",
       "  0.8543750047683716,\n",
       "  0.8543750047683716,\n",
       "  0.856249988079071,\n",
       "  0.856249988079071,\n",
       "  0.856249988079071,\n",
       "  0.8531249761581421,\n",
       "  0.8550000190734863],\n",
       " 'val_loss': [0.47163310647010803,\n",
       "  0.44441819190979004,\n",
       "  0.4314398169517517,\n",
       "  0.41795480251312256,\n",
       "  0.3952986001968384,\n",
       "  0.3837336599826813,\n",
       "  0.371842622756958,\n",
       "  0.37484872341156006,\n",
       "  0.3653078079223633,\n",
       "  0.3625659644603729,\n",
       "  0.36103421449661255,\n",
       "  0.3579942584037781,\n",
       "  0.35529056191444397,\n",
       "  0.3560018539428711,\n",
       "  0.3561647832393646,\n",
       "  0.3517747223377228,\n",
       "  0.3511846661567688,\n",
       "  0.34910428524017334,\n",
       "  0.34700390696525574,\n",
       "  0.34836438298225403,\n",
       "  0.34732210636138916,\n",
       "  0.3476380407810211,\n",
       "  0.3441658020019531,\n",
       "  0.34721001982688904,\n",
       "  0.34688708186149597,\n",
       "  0.3468226492404938,\n",
       "  0.3453458547592163,\n",
       "  0.345332533121109,\n",
       "  0.34332290291786194,\n",
       "  0.34476161003112793,\n",
       "  0.34328049421310425,\n",
       "  0.3516283929347992,\n",
       "  0.34912896156311035,\n",
       "  0.34181445837020874,\n",
       "  0.3472502529621124,\n",
       "  0.3426719605922699,\n",
       "  0.3458614647388458,\n",
       "  0.34432339668273926,\n",
       "  0.3435254693031311,\n",
       "  0.3431676924228668,\n",
       "  0.34423673152923584,\n",
       "  0.3422727882862091,\n",
       "  0.3413664996623993,\n",
       "  0.3432745039463043,\n",
       "  0.35440194606781006,\n",
       "  0.34329062700271606,\n",
       "  0.3425632417201996,\n",
       "  0.3435741662979126,\n",
       "  0.34311285614967346,\n",
       "  0.34595173597335815,\n",
       "  0.34268826246261597,\n",
       "  0.34449997544288635,\n",
       "  0.3466840386390686,\n",
       "  0.34666866064071655,\n",
       "  0.34803032875061035,\n",
       "  0.3490244746208191,\n",
       "  0.34652262926101685,\n",
       "  0.34677654504776,\n",
       "  0.3467552661895752,\n",
       "  0.3450433015823364,\n",
       "  0.3480440080165863,\n",
       "  0.3463411331176758,\n",
       "  0.349351704120636,\n",
       "  0.3461941182613373,\n",
       "  0.34897270798683167,\n",
       "  0.34799879789352417,\n",
       "  0.35059624910354614,\n",
       "  0.3517555296421051,\n",
       "  0.3484771251678467,\n",
       "  0.34761056303977966,\n",
       "  0.3496722877025604,\n",
       "  0.3494797945022583,\n",
       "  0.35099345445632935,\n",
       "  0.35898903012275696,\n",
       "  0.3494255840778351,\n",
       "  0.3541540503501892,\n",
       "  0.3496180474758148,\n",
       "  0.3510654866695404,\n",
       "  0.3517962694168091,\n",
       "  0.34883421659469604,\n",
       "  0.3543742895126343,\n",
       "  0.35305309295654297,\n",
       "  0.35111111402511597,\n",
       "  0.3520388901233673,\n",
       "  0.3495779037475586,\n",
       "  0.35083502531051636,\n",
       "  0.35623839497566223,\n",
       "  0.3510548770427704,\n",
       "  0.3522723913192749,\n",
       "  0.3502664864063263,\n",
       "  0.35401684045791626,\n",
       "  0.34938105940818787,\n",
       "  0.35387328267097473,\n",
       "  0.35000866651535034,\n",
       "  0.3519457280635834,\n",
       "  0.3504149913787842,\n",
       "  0.35679662227630615,\n",
       "  0.3552153408527374,\n",
       "  0.35562020540237427,\n",
       "  0.3520623743534088]}"
      ]
     },
     "execution_count": 24,
     "metadata": {},
     "output_type": "execute_result"
    }
   ],
   "source": [
    "import matplotlib.pyplot as plt\n",
    "\n",
    "history.history"
   ]
  },
  {
   "cell_type": "code",
   "execution_count": 25,
   "id": "c1690f67",
   "metadata": {
    "execution": {
     "iopub.execute_input": "2024-08-23T19:35:08.377447Z",
     "iopub.status.busy": "2024-08-23T19:35:08.376753Z",
     "iopub.status.idle": "2024-08-23T19:35:08.579602Z",
     "shell.execute_reply": "2024-08-23T19:35:08.578673Z"
    },
    "papermill": {
     "duration": 0.284022,
     "end_time": "2024-08-23T19:35:08.581780",
     "exception": false,
     "start_time": "2024-08-23T19:35:08.297758",
     "status": "completed"
    },
    "tags": []
   },
   "outputs": [
    {
     "data": {
      "text/plain": [
       "[<matplotlib.lines.Line2D at 0x77fed8111690>]"
      ]
     },
     "execution_count": 25,
     "metadata": {},
     "output_type": "execute_result"
    },
    {
     "data": {
      "image/png": "[encoded data removed]",
      "text/plain": [
       "<Figure size 640x480 with 1 Axes>"
      ]
     },
     "metadata": {},
     "output_type": "display_data"
    }
   ],
   "source": [
    "plt.plot(history.history['loss'])\n",
    "plt.plot(history.history['val_loss'])\n"
   ]
  },
  {
   "cell_type": "code",
   "execution_count": 26,
   "id": "b56c6f6c",
   "metadata": {
    "execution": {
     "iopub.execute_input": "2024-08-23T19:35:08.738827Z",
     "iopub.status.busy": "2024-08-23T19:35:08.738428Z",
     "iopub.status.idle": "2024-08-23T19:35:08.985781Z",
     "shell.execute_reply": "2024-08-23T19:35:08.984859Z"
    },
    "papermill": {
     "duration": 0.329396,
     "end_time": "2024-08-23T19:35:08.988184",
     "exception": false,
     "start_time": "2024-08-23T19:35:08.658788",
     "status": "completed"
    },
    "tags": []
   },
   "outputs": [
    {
     "data": {
      "text/plain": [
       "[<matplotlib.lines.Line2D at 0x77fed81c2b00>]"
      ]
     },
     "execution_count": 26,
     "metadata": {},
     "output_type": "execute_result"
    },
    {
     "data": {
      "image/png": "[encoded data removed]",
      "text/plain": [
       "<Figure size 640x480 with 1 Axes>"
      ]
     },
     "metadata": {},
     "output_type": "display_data"
    }
   ],
   "source": [
    "plt.plot(history.history['accuracy'])\n",
    "plt.plot(history.history['val_accuracy'])"
   ]
  },
  {
   "cell_type": "code",
   "execution_count": null,
   "id": "6ae0e121",
   "metadata": {
    "papermill": {
     "duration": 0.077951,
     "end_time": "2024-08-23T19:35:09.145267",
     "exception": false,
     "start_time": "2024-08-23T19:35:09.067316",
     "status": "completed"
    },
    "tags": []
   },
   "outputs": [],
   "source": []
  }
 ],
 "metadata": {
  "kaggle": {
   "accelerator": "gpu",
   "dataSources": [
    {
     "datasetId": 869651,
     "sourceId": 1481789,
     "sourceType": "datasetVersion"
    }
   ],
   "dockerImageVersionId": 30762,
   "isGpuEnabled": true,
   "isInternetEnabled": true,
   "language": "python",
   "sourceType": "notebook"
  },
  "kernelspec": {
   "display_name": "Python 3",
   "language": "python",
   "name": "python3"
  },
  "language_info": {
   "codemirror_mode": {
    "name": "ipython",
    "version": 3
   },
   "file_extension": ".py",
   "mimetype": "text/x-python",
   "name": "python",
   "nbconvert_exporter": "python",
   "pygments_lexer": "ipython3",
   "version": "3.10.14"
  },
  "papermill": {
   "default_parameters": {},
   "duration": 66.731934,
   "end_time": "2024-08-23T19:35:12.005134",
   "environment_variables": {},
   "exception": null,
   "input_path": "__notebook__.ipynb",
   "output_path": "__notebook__.ipynb",
   "parameters": {},
   "start_time": "2024-08-23T19:34:05.273200",
   "version": "2.6.0"
  }
 },
 "nbformat": 4,
 "nbformat_minor": 5
}
